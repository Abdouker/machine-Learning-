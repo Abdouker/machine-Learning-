{
 "cells": [
  {
   "cell_type": "markdown",
   "metadata": {
    "id": "CY96OmaIEVJm"
   },
   "source": [
    "### Group members (first and last names):\n",
    "- ####  *Abdelhak Kermia*\n"
   ]
  },
  {
   "cell_type": "markdown",
   "metadata": {
    "id": "CELroLZtEVJn"
   },
   "source": [
    "# Introduction"
   ]
  },
  {
   "cell_type": "markdown",
   "metadata": {
    "id": "8dE5X4R4EVJo"
   },
   "source": [
    "Welcome to the first lab. Take a moment to familiarize yourself with this interactive notebook. Each notebook is composed of cells. Each cell can be [markdown](https://github.com/adam-p/markdown-here/wiki/Markdown-Cheatsheet) _(easy-to-format text)_ or **code** (Python 3). Markdown cells also accept $\\LaTeX$ formatting. Feel free to double-click on these textual cells (switching to edit mode) to see how they were made.\n",
    "\n",
    "When a cell is highlighted, it has two modes: command and input. Press `Esc` to go to *command mode*, press `Enter` to go into *edit/input mode*. There are a few shortcuts that only work in edit mode that can make your life easier.\n",
    "\n",
    "**Some useful shortcuts**:\n",
    "- `Shift + Enter` to evaluate the current cell\n",
    "- in *command mode*, press `a` to create a new cell above the current, `b` to create one below\n",
    "- `Ctrl + m + m` to convert to markdown\n",
    "- `Ctrl + m + y` to convert to code.\n",
    "\n",
    "❗These shortcuts vary between programs. To check the keyboard shortcuts in Google Colab `Ctrl + m + h`"
   ]
  },
  {
   "cell_type": "markdown",
   "metadata": {
    "id": "f9ZvQFb4EVJp"
   },
   "source": [
    "### (Computational) kernel"
   ]
  },
  {
   "cell_type": "markdown",
   "metadata": {
    "id": "D6hdbR1lEVJp"
   },
   "source": [
    "Jupyter as a server generates the interactive web interface that you are seeing (and using) now. To run the code, the server maintains a running instance of Python, what is called a _computational kernel_. Think of it as an open terminal window with the interactive Python open: each time you _evaluate_ a cell, the code is run on that \"kernel\", and the output is displayed below the input cell. Try to run the cell below:"
   ]
  },
  {
   "cell_type": "code",
   "execution_count": 1,
   "metadata": {
    "ExecuteTime": {
     "end_time": "2025-03-01T17:54:28.412541Z",
     "start_time": "2025-03-01T17:54:28.409623Z"
    },
    "id": "RS8t_KbIEVJp"
   },
   "outputs": [
    {
     "name": "stdout",
     "output_type": "stream",
     "text": [
      "5\n"
     ]
    }
   ],
   "source": [
    "a = 3+2\n",
    "print(a)"
   ]
  },
  {
   "cell_type": "markdown",
   "metadata": {
    "id": "f-sCrPQzEVJq"
   },
   "source": [
    "Then you can use the variable `a` again in your next executions:"
   ]
  },
  {
   "cell_type": "code",
   "execution_count": 2,
   "metadata": {
    "ExecuteTime": {
     "end_time": "2025-03-01T17:54:28.455418Z",
     "start_time": "2025-03-01T17:54:28.452256Z"
    },
    "id": "GVTUYD18EVJq"
   },
   "outputs": [
    {
     "name": "stdout",
     "output_type": "stream",
     "text": [
      "5\n"
     ]
    }
   ],
   "source": [
    "print(a)"
   ]
  },
  {
   "cell_type": "markdown",
   "metadata": {
    "id": "P2AwwxBFEVJq"
   },
   "source": [
    "Just remember that the order in which you run the cells matters: for example try running next the cell below this text, and then the cell above this text once more."
   ]
  },
  {
   "cell_type": "code",
   "execution_count": 3,
   "metadata": {
    "ExecuteTime": {
     "end_time": "2025-03-01T17:54:28.486425Z",
     "start_time": "2025-03-01T17:54:28.483116Z"
    },
    "id": "00YbjbPUEVJq"
   },
   "outputs": [
    {
     "name": "stdout",
     "output_type": "stream",
     "text": [
      "1\n"
     ]
    }
   ],
   "source": [
    "a = 3-2\n",
    "print(a)"
   ]
  },
  {
   "cell_type": "markdown",
   "metadata": {
    "id": "ry9mH8YSEVJq"
   },
   "source": [
    "Check the `Runtime` menu on top of the page for options on controlling the underlying Python execution. For example, `Restart Session & Run All` terminates the current kernel, launches a new fresh one, then executes all (code) cells in the notebook in order. The `Interrupt Execution` command is also useful if a bug gets the execution stuck."
   ]
  },
  {
   "cell_type": "markdown",
   "metadata": {
    "id": "LcrU0TneEVJq"
   },
   "source": [
    "### How to pass the lab?"
   ]
  },
  {
   "cell_type": "markdown",
   "metadata": {
    "id": "47nAP5neEVJq"
   },
   "source": [
    "Below you find the exercise questions. Each question awarding points is numbered and states the number of points like this: **[0pts]**. To answer a question, fill the cell below with your answer (markdown for text, code for implementation). Incorrect or incomplete answers are worth 0 points: partial points can be awarded at the teacher's discretion. Overcomplete answers do not award extra points.\n",
    "\n",
    "Don't forget to **save your work frequently!** (`Ctrl + s`)\n",
    "\n",
    "**You need at least 17 points (out of 26 available) to pass** (66%)."
   ]
  },
  {
   "cell_type": "markdown",
   "metadata": {
    "id": "k75AKRK1EVJq"
   },
   "source": [
    "# 1. Fundamentals"
   ]
  },
  {
   "cell_type": "markdown",
   "metadata": {
    "id": "xVVD4bAnEVJr"
   },
   "source": [
    "#### 1.1 **[1pt]** Write the equation of a linear model. You should use $\\LaTeX$ formatting, just wrap the equation in between dollar signs (e.g. `$\\LaTeX$`)."
   ]
  },
  {
   "cell_type": "markdown",
   "metadata": {
    "id": "nPOqoWcyEVJr"
   },
   "source": [
    "$y=mx+q$"
   ]
  },
  {
   "cell_type": "markdown",
   "metadata": {
    "id": "2-DPvQKkEVJr"
   },
   "source": [
    "#### 1.2 **[1pt]** Describe with your own words (i.e. English) what is a *Training Dataset*.\n",
    "There is not an explicit definition in the slides, you should understand the math (your lecture notes may help)."
   ]
  },
  {
   "cell_type": "markdown",
   "metadata": {
    "id": "9AeEpwo6EVJr"
   },
   "source": [
    "In supervised ML:<br>\n",
    " - A dataset is made of datapoints which are pairs of input and output values (prediction and true value/ feature and target,labels).\n",
    " - A training dataset is a portion of the whole dataset which is used to fit (training phase) a model for prediction,classification or other applications(learns patterns and relationships).\n",
    "  - It is followed by the validation/test set (for performance evaluation of the model)"
   ]
  },
  {
   "cell_type": "markdown",
   "metadata": {
    "id": "Qt2_mOMMEVJr"
   },
   "source": [
    "#### 1.3 **[1pt]** Which word describes when the trained model is too complex to capture the underlying simplicity of the data?\n",
    "Careful not to pick the wrong term."
   ]
  },
  {
   "cell_type": "markdown",
   "metadata": {
    "id": "EyuEoW14EVJs"
   },
   "source": [
    "Overfitting"
   ]
  },
  {
   "cell_type": "markdown",
   "metadata": {
    "id": "yvWKVeNwEVJs"
   },
   "source": [
    "# 2. Error and loss"
   ]
  },
  {
   "cell_type": "markdown",
   "metadata": {
    "id": "OxMFbekEEVJs"
   },
   "source": [
    "Understanding the concept of loss is fundamental to comprehending the general idea of an \"error\". ML is founded on the basis of recognizing error and minimizing it."
   ]
  },
  {
   "cell_type": "markdown",
   "metadata": {
    "id": "Y5i-Vzg2EVJs"
   },
   "source": [
    "#### 2.1 **[3pt]** About the *Loss Function*: why $L(\\hat y, y) = 0 \\;\\;\\text{if}\\;\\; \\hat y = y, \\;\\;\\forall y \\in Y$?\n",
    "\n",
    "Remember that the *Loss* is a simple difference between prediction and target."
   ]
  },
  {
   "cell_type": "markdown",
   "metadata": {
    "id": "rHkV3qjAEVJs"
   },
   "source": [
    "If the estimated/predicted value $\\hat y$ is equal to the real value/target y for all y in the dataset then the difference/loss function is null/0:<br>\n",
    "- It means that there is no errors/loss between prediction and reality/target values from the dataset: it is a perfect prediction. No loss = no discrepancy between prediction and target.<br>\n",
    "- In short, the model input values predicts/fits exactly the output values of the dataset for every datapoints of the dataset."
   ]
  },
  {
   "cell_type": "markdown",
   "metadata": {
    "id": "azNB41P3EVJs"
   },
   "source": [
    "# 3. Simplest learning"
   ]
  },
  {
   "cell_type": "markdown",
   "metadata": {
    "id": "M97DB0Z5EVJs"
   },
   "source": [
    "Enough concepts, let's have some fun. I hope you are familiar with Python -- if not yet, you should become so by the end of the course. If your confidence is low you should start a discussion on Moodle, so that you can all help each other (and help us help you)."
   ]
  },
  {
   "cell_type": "markdown",
   "metadata": {
    "id": "dDvTCR-5EVJw"
   },
   "source": [
    "Do you know about `lambda` functions in Python? You can write a method that returns a function. The function can be used as if it was a method defined with `def`. Remember:\n",
    "1. `lambda`s always (implicitly) `return` the result of their computation\n",
    "2. you cannot write multiline lambdas (go ask Guido van Rossum why).\n",
    "\n",
    "Still, using them is easier than it sounds:"
   ]
  },
  {
   "cell_type": "code",
   "execution_count": 4,
   "metadata": {
    "ExecuteTime": {
     "end_time": "2025-03-01T17:54:28.517038Z",
     "start_time": "2025-03-01T17:54:28.511826Z"
    },
    "id": "EA495qyBEVJw"
   },
   "outputs": [
    {
     "data": {
      "text/plain": [
       "8"
      ]
     },
     "execution_count": 4,
     "metadata": {},
     "output_type": "execute_result"
    }
   ],
   "source": [
    "def add_n(n): return lambda x: n+x\n",
    "add_3 = add_n(3)\n",
    "add_3(5)"
   ]
  },
  {
   "cell_type": "markdown",
   "metadata": {
    "id": "rLnt6h6REVJw"
   },
   "source": [
    "Ok how about we generate and plot some artificial data? Study the code below, if there's anything you are not yet familiar with you should make sure to learn it (ask on Moodle).\n",
    "\n",
    "I mean it. Later on you will be required to use all of these functionalities yourself. Verify early in the course what you need to refresh and what is entirely new, because later on studying software engineering while working on the (much!) harder assignments may become a problem."
   ]
  },
  {
   "cell_type": "code",
   "execution_count": 5,
   "metadata": {
    "ExecuteTime": {
     "end_time": "2025-03-01T17:54:28.549322Z",
     "start_time": "2025-03-01T17:54:28.533273Z"
    },
    "id": "21yknkk2EVJw"
   },
   "outputs": [],
   "source": [
    "# These lines are required for our plotting function below\n",
    "# %matplotlib inline\n",
    "import matplotlib.pyplot as plt\n",
    "import seaborn as sns\n",
    "# While this is the library for numerical manipulations\n",
    "import numpy as np\n",
    "\n",
    "# set randomness\n",
    "np.random.seed(0)\n",
    "\n",
    "# This is just some styling for the plotting library\n",
    "sns.set_theme(rc={'figure.figsize':(8,6)}, style=\"whitegrid\")\n",
    "\n",
    "# Let's create the data from a function you should be acquainted with by now\n",
    "# (do you know lambdas yet? They are basically short, unnamed methods)\n",
    "trg_fn = lambda x: 2*x - 1\n",
    "# Of course, we want the data to be a bit noisy\n",
    "some_noise = lambda: np.random.normal(0,3)\n",
    "# Let's generate it using numpy's linear space and a python list comprehension,\n",
    "# just to make sure you know these too\n",
    "data = [[x, trg_fn(x) + some_noise()] for x in np.linspace(-10, 10, 50)]\n",
    "\n",
    "# You will find commonly data treated by axis/column rather than coordinate pairs.\n",
    "# This aggregates data series belonging to the same dimension (feature)\n",
    "transpose = lambda lst: list(map(list, zip(*lst)))\n",
    "data_x, data_y = transpose(data)\n",
    "\n",
    "# And here's a canned plotting function that you are free to use (for now...)\n",
    "def plot_data_and_model(model=None, text=None):\n",
    "    ret = sns.scatterplot(x=data_x, y=data_y) # hard-coded data plotting because we can\n",
    "    if model is not None:\n",
    "        sns.lineplot(x=data_x, y=[model(x) for x in data_x], color='darkred')\n",
    "    if text is not None:\n",
    "        plt.title(text)\n",
    "    return ret"
   ]
  },
  {
   "cell_type": "markdown",
   "metadata": {
    "id": "Yy3-8f7LEVJx"
   },
   "source": [
    "Here is what the data you just generated looks like:"
   ]
  },
  {
   "cell_type": "code",
   "execution_count": 6,
   "metadata": {
    "ExecuteTime": {
     "end_time": "2025-03-01T17:54:28.699516Z",
     "start_time": "2025-03-01T17:54:28.572049Z"
    },
    "id": "G3ObqYC0EVJx"
   },
   "outputs": [
    {
     "data": {
      "image/png": "[encoded data removed]",
      "text/plain": [
       "<Figure size 800x600 with 1 Axes>"
      ]
     },
     "metadata": {},
     "output_type": "display_data"
    }
   ],
   "source": [
    "plot_data_and_model(text=\"Here is what the data looks like (without model)\");"
   ]
  },
  {
   "cell_type": "markdown",
   "metadata": {
    "id": "ndfvpotMEVJx"
   },
   "source": [
    "And here is what it looks like if you cheat and plot the underlying function (ideally your final, learned model should look similar)"
   ]
  },
  {
   "cell_type": "code",
   "execution_count": 7,
   "metadata": {
    "ExecuteTime": {
     "end_time": "2025-03-01T17:54:28.822789Z",
     "start_time": "2025-03-01T17:54:28.708298Z"
    },
    "id": "ywWPJDFMEVJx"
   },
   "outputs": [
    {
     "data": {
      "text/plain": [
       "<Axes: title={'center': 'Data with generating function'}>"
      ]
     },
     "execution_count": 7,
     "metadata": {},
     "output_type": "execute_result"
    },
    {
     "data": {
      "image/png": "[encoded data removed]",
      "text/plain": [
       "<Figure size 800x600 with 1 Axes>"
      ]
     },
     "metadata": {},
     "output_type": "display_data"
    }
   ],
   "source": [
    "plot_data_and_model(trg_fn, text=\"Data with generating function\")"
   ]
  },
  {
   "cell_type": "markdown",
   "metadata": {
    "id": "40DowrTNEVJx"
   },
   "source": [
    "#### 3.1 **[2pt]** Write your linear model as a method that takes `m` and `q` as input, and return a linear function of the form `mx + q`.\n",
    "\n",
    "❗Define the function using `lambda`"
   ]
  },
  {
   "cell_type": "code",
   "execution_count": 8,
   "metadata": {
    "ExecuteTime": {
     "end_time": "2025-03-01T17:54:28.837081Z",
     "start_time": "2025-03-01T17:54:28.832719Z"
    },
    "id": "1blwLcUAEVJx"
   },
   "outputs": [
    {
     "name": "stdout",
     "output_type": "stream",
     "text": [
      "line_lambda(4): 17 \n",
      "line_normal(4): 17 \n",
      "line_intermediate(4): 17\n"
     ]
    }
   ],
   "source": [
    "# Nested lambda version\n",
    "line_model = lambda m,q : lambda x: m*x+q\n",
    "\n",
    "#The \"intermediate\" version : lambda in a standard function\n",
    "def line_inter(m,q): return lambda x: m * x + q\n",
    "\n",
    "#The equivalent standard function :\n",
    "def line_normal_model(m,q):\n",
    "    def model(x):\n",
    "        return  m*x+q\n",
    "    return model\n",
    "# Comparison\n",
    "f1 = line_model(3,5); f2 = line_normal_model(3,5); f3 = line_inter(3, 5) # y = 3x+5\n",
    "print (\"line_lambda(4):\", f1(4), \"\\nline_normal(4):\", f2(4), \"\\nline_intermediate(4):\", f3(4))  #x=4 -> y=3*4+5 = 17"
   ]
  },
  {
   "cell_type": "markdown",
   "metadata": {
    "id": "hdo5tTTWEVJx"
   },
   "source": [
    "#### 3.2 **[2pt]** Write your loss as a method that takes an `x` and a target and returns the absolute value of their difference\n",
    "\n",
    "🧠 What happens if we forget the absolute value?"
   ]
  },
  {
   "cell_type": "code",
   "execution_count": 9,
   "metadata": {
    "ExecuteTime": {
     "end_time": "2025-03-01T17:54:28.873831Z",
     "start_time": "2025-03-01T17:54:28.869309Z"
    },
    "id": "Gs5Fx8CWEVJx"
   },
   "outputs": [
    {
     "name": "stdout",
     "output_type": "stream",
     "text": [
      "loss_lambda: 3 \n",
      "loss_normal: 3\n"
     ]
    }
   ],
   "source": [
    "#Lambda version\n",
    "loss = lambda x, target: abs(target-model(x))\n",
    "\n",
    "#The equivalent standard function:\n",
    "def loss_normal (x, target):\n",
    "    return abs(target-model(x))\n",
    "\n",
    "# Comparison\n",
    "model = line_model(3,5) #x=6 -> 3*6+5-> target=23\n",
    "print (\"loss_lambda:\", loss(6,20), \"\\nloss_normal:\", loss_normal(6,20)) #abs(23-20) = 3"
   ]
  },
  {
   "cell_type": "markdown",
   "metadata": {
    "id": "DGHun3GWEVJy"
   },
   "source": [
    "Here is an example of a loop that generates random numbers and maintains a *minimum*."
   ]
  },
  {
   "cell_type": "code",
   "execution_count": 10,
   "metadata": {
    "ExecuteTime": {
     "end_time": "2025-03-01T17:54:29.000829Z",
     "start_time": "2025-03-01T17:54:28.921634Z"
    },
    "id": "cR3gUuAeEVJy"
   },
   "outputs": [
    {
     "data": {
      "image/png": "[encoded data removed]",
      "text/plain": [
       "<Figure size 800x600 with 1 Axes>"
      ]
     },
     "metadata": {},
     "output_type": "display_data"
    }
   ],
   "source": [
    "min_guess = np.inf # higher than the highest possible\n",
    "\n",
    "errors_reduction_list = []\n",
    "for _ in range(100):\n",
    "    guess = np.random.uniform(-3,3)\n",
    "    if guess < min_guess:\n",
    "        min_guess = guess\n",
    "        errors_reduction_list.append(min_guess)\n",
    "\n",
    "sns.lineplot(x=range(len(errors_reduction_list)), y=errors_reduction_list);"
   ]
  },
  {
   "cell_type": "markdown",
   "metadata": {
    "id": "t4kgQ3N7EVJy"
   },
   "source": [
    "💁 It is always useful to visualize how the loss decreases over time, especially for debugging purposes. You can do the same next for your errors/losses."
   ]
  },
  {
   "cell_type": "markdown",
   "metadata": {
    "id": "TpQ-X3IzEVJy"
   },
   "source": [
    "#### 3.3 **[6pt]** Randomly guess a model's parameters 1000 times. Then plot it using the call below.\n",
    "```python\n",
    "plot_data_and_model(lin_model(m, q), text=f\"m={round(m,2)}    q={round(q,2)}\")        \n",
    "```\n",
    "Make sure you understand how string interpolation works when using the format `f\"hello w{2+1-3}rld\"`.  \n",
    "You will need to modify the loop above in order to maintain the best guess for your model evaluated by reducing the error.\n",
    "\n",
    "🧠 Think about how you could compute the total error of a model using the loss function."
   ]
  },
  {
   "cell_type": "code",
   "execution_count": 11,
   "metadata": {
    "ExecuteTime": {
     "end_time": "2025-03-01T17:54:29.204328Z",
     "start_time": "2025-03-01T17:54:29.008413Z"
    },
    "id": "lBMrKYZkEVJy"
   },
   "outputs": [
    {
     "data": {
      "image/png": "[encoded data removed]",
      "text/plain": [
       "<Figure size 800x600 with 1 Axes>"
      ]
     },
     "metadata": {},
     "output_type": "display_data"
    },
    {
     "data": {
      "text/plain": [
       "<Axes: title={'center': 'm=1.77    q=-0.93'}>"
      ]
     },
     "execution_count": 11,
     "metadata": {},
     "output_type": "execute_result"
    },
    {
     "data": {
      "image/png": "[encoded data removed]",
      "text/plain": [
       "<Figure size 800x600 with 1 Axes>"
      ]
     },
     "metadata": {},
     "output_type": "display_data"
    }
   ],
   "source": [
    "best_guess = None\n",
    "best_error = np.inf # higher than the highest possible\n",
    "\n",
    "errors_reduction_list = []\n",
    "for _ in range(1000):\n",
    "    guess = np.random.uniform(-3,3,2) # Generates random numbers between a and b [a,b,size]: initial guessed value for m and q\n",
    "    model = line_model(*guess) # or guess[0],guess[1]\n",
    "    error_tot = sum([loss(x,target) for x, target in data]) # sum of the differences to the true values from data for each iteration // risk\n",
    "\n",
    "    if error_tot < best_error:\n",
    "        best_error = error_tot # lower the threshold\n",
    "        best_guess = guess # keep the best guess\n",
    "        errors_reduction_list.append(best_error)\n",
    "\n",
    "# best fitting parameters for the model (linear)\n",
    "m,q = best_guess\n",
    "\n",
    "#plotting\n",
    "sns.lineplot(x=range(len(errors_reduction_list)), y=errors_reduction_list)\n",
    "plt.ylabel(\"Total Error/Loss\")\n",
    "plt.title(\"Error Reduction\")\n",
    "plt.show()\n",
    "\n",
    "plot_data_and_model(line_model(m, q), text=f\"m={round(m,2)}    q={round(q,2)}\")"
   ]
  },
  {
   "cell_type": "markdown",
   "metadata": {
    "id": "NivqkjmoafCZ"
   },
   "source": [
    "🧠 How do these parameters compare to the initial function we generated the data from? Take a look above at the `trg_fn` they should be pretty similar. If you're interested, take a moment to plot the progression of errors."
   ]
  },
  {
   "cell_type": "markdown",
   "metadata": {
    "id": "O3fBud5Zy3IK"
   },
   "source": [
    "#### 3.4 **[1pt]** Can Logistic Regression be used to predict continuous numerical values like Linear Regression? Why or why not?"
   ]
  },
  {
   "cell_type": "markdown",
   "metadata": {
    "id": "u0tG-c05zCxr"
   },
   "source": [
    "No, but it is suitable for binary/multiclass classification (categories) not prediction of continuous numerical values. <br>\n",
    " - Logistic function (sigmoid) are bounded by definition to a certain domain of output it cannot fit continuous values.\n",
    "- Logistic regression output a probability value from 0-1 it is bounded / Linear regression can output a continuous range of value.\n",
    "- The loss function (log loss) is also not suited for continuous value."
   ]
  },
  {
   "cell_type": "markdown",
   "metadata": {
    "id": "50Uaza3GzhnG"
   },
   "source": [
    "# 4. Fundamentals of Classification and Features"
   ]
  },
  {
   "cell_type": "markdown",
   "metadata": {
    "id": "wCtxTDFgzo0D"
   },
   "source": [
    "Here is an example dataset of snakes. It has three fields: `head size`, `length` (in cm) and whether it is `poisonous` or not. It looks like this:\n",
    "\n",
    "```python\n",
    "snakes = [['small', 38, False],\n",
    "          ['small', 62, True],\n",
    "          ['medium', 55, True]]\n",
    "```\n",
    "\n",
    "This simple **list of lists** puts the emphasis on the data points (the rows), which is an intuitive approach at first for humans to manually write down the data. You will often encounter tables, JSON and CSV files that look like this. We will explore more machine-friendly formats later (spoilers: column-oriented), so understand this approach is just a step for ease of comprehension."
   ]
  },
  {
   "cell_type": "markdown",
   "metadata": {
    "id": "BwxWW2vWz9JW"
   },
   "source": [
    "Let's lighten the mood by focusing on cats and dogs instead for your exercise."
   ]
  },
  {
   "cell_type": "markdown",
   "metadata": {
    "id": "hko1jSmVrgMJ"
   },
   "source": [
    "#### 4.1 **[1pt]** Name three features that are highly discriminative to classify cats from dogs, and three which are not."
   ]
  },
  {
   "cell_type": "markdown",
   "metadata": {
    "id": "en4czAk4rgMJ"
   },
   "source": [
    "More specific (more discriminant) :\n",
    "- Size, Weight, Vocalization type (bark, meow,...), Social behavior (more independant, more social), ...\n",
    "\n",
    "Less specific (less discriminant) :\n",
    "- Number of eyes, Number of members(legs), Colors of eyes."
   ]
  },
  {
   "cell_type": "markdown",
   "metadata": {
    "id": "zGISFCFnrgMK"
   },
   "source": [
    "#### 4.2 **[1pt]** Is \"number of legs\" a numeric feature? Is it discrete or continuous? Is it ordinal? What about \"length of tail\"?\n",
    "\n",
    "❗Careful not to confuse \"discrete cardinal\" with \"continuous\". If you cannot tell the difference, refresh the concepts 😀"
   ]
  },
  {
   "cell_type": "markdown",
   "metadata": {
    "id": "Js6S3MYgrgMK"
   },
   "source": [
    "Number of legs is a discrete cardinal feature (can only take a definite numbers of positive,bounded, generally even, integer values)\n",
    "\n",
    "Ordinal:\n",
    "- you cannot rank the number of legs except if you make categories with them:\n",
    "> - like 4,6,10,... legs animals or legless(0)\n",
    "> - few legs(1-3: more like 2 realistically), four legs, many legs (more than 4)\n",
    "\n",
    "It is then possible to do an ordering between these categories.\n",
    "\n",
    "Length of tail is a cardinal continuous feature (positive, bounded)\n",
    "- you could also put them in ordinal categories by defining intervals of length like short, medium, long tails\n",
    "> - e.g. short is smaller than medium which is smaller than long."
   ]
  },
  {
   "cell_type": "markdown",
   "metadata": {
    "id": "ITt5DUj9rgMK"
   },
   "source": [
    "#### 4.3 **[1pt]** Write a dataset (a list of lists) named `pets` containing cats and dogs, with at least 3 features and 5 entries. Write the corresponding labels in a variable named `labels`. Save the feature names in a variable named `feature_names`."
   ]
  },
  {
   "cell_type": "markdown",
   "metadata": {
    "id": "sfPUbTL4rgML"
   },
   "source": [
    "❗Make sure to include some small dog and large cat, such that their size is not highly discriminant."
   ]
  },
  {
   "cell_type": "code",
   "execution_count": 12,
   "metadata": {
    "ExecuteTime": {
     "end_time": "2025-03-01T17:54:29.220876Z",
     "start_time": "2025-03-01T17:54:29.217517Z"
    },
    "id": "a77uXi0XrgML"
   },
   "outputs": [],
   "source": [
    "feature_names = ['size_cm', 'weight_kg', 'tail_length_cm']\n",
    "\n",
    "pets = [\n",
    "    [30, 6, 25],  # Cat 1: Small size, light weight, medium tail\n",
    "    [25, 3, 20],  # Cat 2: Very small, very light, small tail\n",
    "    [55, 11, 30], # Cat 3: Medium size, light weight, medium tail (Big Cat example)\n",
    "    [70, 35, 30], # Dog 1: Medium size, medium weight, medium tail\n",
    "    [60, 24, 28], # Dog 2: Medium size, medium weight, medium tail\n",
    "    [40, 12, 20], # Dog 3: Small size, light weight, short tail (Small Dog Example)\n",
    "    [85, 45, 32]  # Dog 4: Large size, heavy weight, medium tail\n",
    "]\n",
    "\n",
    "labels = ['Cat','Cat','Cat','Dog','Dog','Dog','Dog']"
   ]
  },
  {
   "cell_type": "markdown",
   "metadata": {
    "id": "HcWW4aqTrgMM"
   },
   "source": [
    "Human input means human errors: let's validate the length of these lists using `assert`, which is a Python keyword that will raise an error if its parameter is false (and just do nothing otherwise).  \n",
    "Here we use `map` to execute `len` over each element of a list (which here is: for each data row), then check if all values correspond to the length of feature names. The function `all` returns whether all of its arguments have truth value. We can also verify the number of labels against the number of data points."
   ]
  },
  {
   "cell_type": "code",
   "execution_count": 13,
   "metadata": {
    "ExecuteTime": {
     "end_time": "2025-03-01T17:54:29.234019Z",
     "start_time": "2025-03-01T17:54:29.230861Z"
    },
    "id": "5qB48fEIrgMM"
   },
   "outputs": [],
   "source": [
    "# DO NOT EDIT THIS CELL :)\n",
    "assert all(l == len(feature_names) for l in map(len, pets))\n",
    "assert len(pets) == len(labels)"
   ]
  },
  {
   "cell_type": "markdown",
   "metadata": {
    "id": "4JRPjfG0rgMN"
   },
   "source": [
    "# 5. Decision trees"
   ]
  },
  {
   "cell_type": "markdown",
   "metadata": {
    "id": "3dvmRUEfrgMO"
   },
   "source": [
    "You are going to write a decision tree by hand, that classifies cats from dogs on your dataset, by using a simple chain of `if/else` statements. Do not overlook this task: it is an industry standard to integrate human expert knowledge in an automated ML system.  \n",
    "\n",
    "Include at least two questions, meaning the tree depth (max number of decision nodes between start and leaf) should be at least 2. The leaves should contain decision labels, i.e. either $cat$ or $dog$, though you can have multiple instances of either.  \n",
    "I hope you find it obvious that the labels should not be passed to the function.\n",
    "\n",
    "Do you know the [splat operator](https://codeyarns.github.io/tech/2012-04-25-unpack-operator-in-python.html)? You may find it useful to pass data points to your function. Here is a short demonstration [video](https://www.youtube.com/watch?v=9LrtOJTnwJE).\n",
    "\n",
    "With `map`, `zip` and the splat you should now be able to understand the `transpose()` function:\n",
    "\n",
    "```python\n",
    "transpose = lambda lst: list(map(list, zip(*lst)))\n",
    "```\n",
    "\n",
    "A decent Python skill level is nowadays a mandatory requirement for good Data Analysis or Machine Learning job positions."
   ]
  },
  {
   "cell_type": "markdown",
   "metadata": {
    "id": "W96g3YlzrgMO"
   },
   "source": [
    "#### 5.1 **[2pt]** Implement a Decision Tree as a function that takes the features of a data point from the `data` defined above and returns a predicted label using an if/else chain. Run it over your `data` to obtain a list of predictions."
   ]
  },
  {
   "cell_type": "code",
   "execution_count": 14,
   "metadata": {
    "ExecuteTime": {
     "end_time": "2025-03-01T17:54:29.246282Z",
     "start_time": "2025-03-01T17:54:29.241433Z"
    },
    "id": "pd7iaMjqrgMO"
   },
   "outputs": [
    {
     "name": "stdout",
     "output_type": "stream",
     "text": [
      "\n",
      "Labels:\n",
      " ['Cat', 'Cat', 'Cat', 'Dog', 'Dog', 'Dog', 'Dog'] \n",
      "Predictions:\n",
      " ['Cat', 'Cat', 'Cat', 'Dog', 'Dog', 'Dog', 'Dog']\n"
     ]
    }
   ],
   "source": [
    "def predict_pet_type_decision_tree(pet_features): #could use * and then call pet_features[0],[1],[2] directly in the function but less readable\n",
    "    size_cm, weight_kg, tail_length_cm = pet_features # unpacking of features\n",
    "\n",
    "    if weight_kg < 10:\n",
    "        return 'Cat'  # Predict Cat\n",
    "    elif size_cm < 60:\n",
    "        if weight_kg < 12:\n",
    "            return 'Cat'  # Predict Cat\n",
    "        else:\n",
    "            return 'Dog'  # Predict Dog\n",
    "    else:\n",
    "        return 'Dog'  # Predict Dog\n",
    "\n",
    "predictions = [predict_pet_type_decision_tree(pet_data) for pet_data in pets]\n",
    "\n",
    "print(\"\\nLabels:\\n\", labels, \"\\nPredictions:\\n\", predictions)"
   ]
  },
  {
   "cell_type": "markdown",
   "metadata": {
    "id": "nY9Ey3HErgMP"
   },
   "source": [
    "To quickly check if it got them all right you can use `zip`, which builds lists taking one element in turn from each of its input lists."
   ]
  },
  {
   "cell_type": "code",
   "execution_count": 15,
   "metadata": {
    "ExecuteTime": {
     "end_time": "2025-03-01T17:54:29.270974Z",
     "start_time": "2025-03-01T17:54:29.267538Z"
    },
    "id": "L3ow-XsFrgMP"
   },
   "outputs": [
    {
     "name": "stdout",
     "output_type": "stream",
     "text": [
      "('Cat', 'Cat')\n",
      "('Cat', 'Cat')\n",
      "('Cat', 'Cat')\n",
      "('Dog', 'Dog')\n",
      "('Dog', 'Dog')\n",
      "('Dog', 'Dog')\n",
      "('Dog', 'Dog')\n"
     ]
    }
   ],
   "source": [
    "for pair in zip(predictions, labels): print(pair)"
   ]
  },
  {
   "cell_type": "markdown",
   "metadata": {
    "id": "TD-PAcy7rgMQ"
   },
   "source": [
    "Now we need to properly assess the performance of our classification. This is commonly done using the [**Confusion Matrix**](https://en.wikipedia.org/wiki/Confusion_matrix): two rows and two columns, indicating the count (over the dataset) of\n",
    "\n",
    "$$\n",
    "\\begin{pmatrix}\n",
    "& \\textbf{Predicted Cat} & \\textbf{Predicted Dog} \\\\\n",
    "\\textbf{Actual Cat} &\n",
    "\\begin{matrix}\n",
    "    \\text{True Positives} \\\\\n",
    "    \\text{(Correctly Classified Cats)} \\\\\n",
    "    \\text{True Cats}\n",
    "\\end{matrix}\n",
    "&\n",
    "\\begin{matrix}\n",
    "    \\text{False Negatives} \\\\\n",
    "    \\text{(Missed Cats)} \\\\\n",
    "    \\text{Type II Error}\n",
    "\\end{matrix}\n",
    "\\\\\n",
    "\\textbf{Actual Dog} &\n",
    "\\begin{matrix}\n",
    "    \\text{False Positives} \\\\\n",
    "    \\text{(Incorrectly Classified as Cats)} \\\\\n",
    "    \\text{Type I Error}\n",
    "\\end{matrix}\n",
    "&\n",
    "\\begin{matrix}\n",
    "    \\text{True Negatives} \\\\\n",
    "    \\text{(Correctly Classified Dogs)} \\\\\n",
    "    \\text{True Dogs}\n",
    "\\end{matrix}\n",
    "\\end{pmatrix}\n",
    "$$\n",
    "\n",
    "❗Edit this cell and notice above how you can use multi-line `latex` by wrapping your code in `$$` pairs\n",
    "\n",
    "❗It does not matter whether you pick $cat$ or $dog$ as the \"positive\" class, but be careful and consistent\n",
    "\n",
    "The confusion matrix is the foundation to most loss functions for classification, some of which can be [extremely sophisticated](https://en.wikipedia.org/wiki/Matthews_correlation_coefficient).\n",
    "\n",
    "Perfect classification means no false positives (positive answers for data points that should classify negative) and no false negatives (negative answers for data points that should classify positive) for all data points in your dataset."
   ]
  },
  {
   "cell_type": "markdown",
   "metadata": {
    "id": "YJKk83ELrgMQ"
   },
   "source": [
    "#### 5.2 **[2pt]** Compute and display the Confusion Matrix. If your tree did not achieve perfect classification, write a new version that does.\n",
    "\n",
    "Hint:\n",
    "```python\n",
    "pos = 'cat'; neg = 'dog'\n",
    "tp = 0; tn = 0; fp = 0; fn = 0\n",
    "for pred, lab in zip(predictions, labels):\n",
    "    # your code here\n",
    "```"
   ]
  },
  {
   "cell_type": "markdown",
   "metadata": {
    "id": "3yYpMSB_rgMR"
   },
   "source": [
    "Print the result using string interpolation. There are three ways to interpolate strings in Python: using `format()`, using `%` and using f-strings. You can read about [why you should switch to f-strings](https://realpython.com/python-f-strings/), but for now just try using something like this:\n",
    "```python\n",
    "print(f\"tp: {tp}, fn: {fn}\\nfp: {fp}, tn: {tn}\")\n",
    "```"
   ]
  },
  {
   "cell_type": "code",
   "execution_count": 16,
   "metadata": {
    "ExecuteTime": {
     "end_time": "2025-03-01T17:54:29.312406Z",
     "start_time": "2025-03-01T17:54:29.307583Z"
    },
    "id": "TnWA7-0DrgMR"
   },
   "outputs": [
    {
     "name": "stdout",
     "output_type": "stream",
     "text": [
      "tp: 3, fn: 0\n",
      "fp: 0, tn: 4\n",
      "\n",
      "Accuracy: 100.00%\n",
      "Precision: 1.00\n",
      "Recall: 1.00\n",
      "F1-Score: 1.00\n"
     ]
    }
   ],
   "source": [
    "# --- Confusion Matrix Calculation (Cat as Positive, Dog as Negative)\n",
    "pos = 'Cat' ; neg = 'Dog'\n",
    "tp = 0; tn = 0; fp = 0; fn = 0\n",
    "for pred, lab in zip(predictions, labels):\n",
    "    if   lab == pos and pred == pos: tp += 1 # Actual Cat, Predicted Cat\n",
    "    elif lab == neg and pred == neg: tn += 1 # Actual Dog, Predicted Dog\n",
    "    elif lab == neg and pred == pos: fp += 1 # Actual Dog, Predicted Cat\n",
    "    elif lab == pos and pred == neg: fn += 1 # Actual Cat, Predicted Dog\n",
    "\n",
    "# --- Print Confusion Matrix\n",
    "print(f\"tp: {tp}, fn: {fn}\\nfp: {fp}, tn: {tn}\")\n",
    "\n",
    "# Performance of classification (for fun, no utility here with a perfect classification)\n",
    "accuracy = (tp + tn) / len(labels)\n",
    "precision = tp / (tp + fp) if (tp + fp) > 0 else 0\n",
    "recall = tp / (tp + fn) if (tp + fn) > 0 else 0\n",
    "f1_score = 2 * (precision * recall) / (precision + recall) if (precision + recall) > 0 else 0\n",
    "\n",
    "print(f\"\\nAccuracy: {accuracy * 100:.2f}%\")\n",
    "print(f\"Precision: {precision:.2f}\")\n",
    "print(f\"Recall: {recall:.2f}\")\n",
    "print(f\"F1-Score: {f1_score:.2f}\")"
   ]
  },
  {
   "cell_type": "markdown",
   "metadata": {
    "id": "onqK7XqOrgMR"
   },
   "source": [
    "🧠 Did you just write a decision tree? Can you name the features?"
   ]
  },
  {
   "cell_type": "markdown",
   "metadata": {
    "id": "YBiz6ulcrgMS"
   },
   "source": [
    "Doing these things by hand can be tedious, but provides a different type of confidence to then go and study the documentation of the library you would rather use in real applications.  \n",
    "Here is the [scikit-learn](https://scikit-learn.org/stable/modules/tree.html) implementation of a decision tree, and here is [the main class](https://scikit-learn.org/stable/modules/generated/sklearn.tree.DecisionTreeClassifier.html). Let's load the implementation with the following:"
   ]
  },
  {
   "cell_type": "code",
   "execution_count": 17,
   "metadata": {
    "ExecuteTime": {
     "end_time": "2025-03-01T17:54:29.758415Z",
     "start_time": "2025-03-01T17:54:29.337773Z"
    },
    "id": "dczg4XEirgMS"
   },
   "outputs": [],
   "source": [
    "from sklearn.tree import DecisionTreeClassifier, export_text"
   ]
  },
  {
   "cell_type": "markdown",
   "metadata": {
    "id": "DmMBzl1xrgMS"
   },
   "source": [
    "#### 5.3 **[1pt]** Train a scikit-learn DecisionTreeClassifier on your dataset."
   ]
  },
  {
   "cell_type": "code",
   "execution_count": 18,
   "metadata": {
    "ExecuteTime": {
     "end_time": "2025-03-01T17:54:29.779259Z",
     "start_time": "2025-03-01T17:54:29.766901Z"
    }
   },
   "outputs": [
    {
     "name": "stdout",
     "output_type": "stream",
     "text": [
      "\n",
      " Decision Tree Rules (probability <0.5 or >0.5 (binary : 0 or 1) :\n",
      "\n",
      " |--- weight_kg_11 <= 0.50\n",
      "|   |--- weight_kg_3 <= 0.50\n",
      "|   |   |--- size_cm_30 <= 0.50\n",
      "|   |   |   |--- class: Dog\n",
      "|   |   |--- size_cm_30 >  0.50\n",
      "|   |   |   |--- class: Cat\n",
      "|   |--- weight_kg_3 >  0.50\n",
      "|   |   |--- class: Cat\n",
      "|--- weight_kg_11 >  0.50\n",
      "|   |--- class: Cat\n",
      "\n",
      "Decision Tree Predictions: ['Cat' 'Cat' 'Cat' 'Dog' 'Dog' 'Dog' 'Dog'] \n",
      "Actual Labels: ['Cat', 'Cat', 'Cat', 'Dog', 'Dog', 'Dog', 'Dog']\n",
      "Accuracy DTC on training data: 100.00%\n",
      "\n",
      "Validation: testing with new values\n",
      " \n",
      "Validation predictions:\n",
      " ['Cat' 'Dog' 'Dog' 'Dog' 'Dog'] \n",
      "Actual validation labels: \n",
      " ['Cat', 'Cat', 'Cat', 'Dog', 'Dog']\n",
      "Accuracy on new data: 60.00%\n",
      "\n",
      "The model is over-fitted (biased) to our input/training data: there aren't enough different points and features for more accurate discrimination. Between 40-80% accuracy.\n"
     ]
    }
   ],
   "source": [
    "import pandas as pd\n",
    "\n",
    "# Convert the pets list to a DataFrame\n",
    "df_pets = pd.DataFrame(pets, columns=feature_names)\n",
    "\n",
    "# One-hot encode: not necessary for only numerical values like here.\n",
    "# But if we had for exemple categorical feature with more than two values we should one-hot encode the data.\n",
    "# Binaries feature don't need hot encode (has_a_tail : 1 = yes/true, 0= no/false).\n",
    "df_pets_encoded = pd.get_dummies(df_pets,columns=['size_cm','weight_kg', 'tail_length_cm'])\n",
    "\n",
    "# Initialize the DecisionTreeClassifier\n",
    "clf = DecisionTreeClassifier()\n",
    "# Train the classifier on the encoded dataset\n",
    "clf.fit(df_pets_encoded, labels)\n",
    "\n",
    "# Print the train rules\n",
    "print(\"\\n Decision Tree Rules (probability <0.5 or >0.5 (binary : 0 or 1) :\\n\\n\", export_text(clf, feature_names=list(df_pets_encoded.columns)))\n",
    "\n",
    "# Print the predictions and the actual labels for comparison\n",
    "predictions = clf.predict(df_pets_encoded)\n",
    "print(\"Decision Tree Predictions:\", predictions, \"\\nActual Labels:\", labels)\n",
    "\n",
    "# Evaluate the accuracy of the training\n",
    "correct_predictions_dtc = sum(pred == lab for pred, lab in zip(predictions, labels))\n",
    "print(f\"Accuracy DTC on training data: {correct_predictions_dtc / len(labels) * 100:.2f}%\")\n",
    "\n",
    "#----------------------------------------------------------------------------------------------------------------------------------------\n",
    "# Validation new values: (for fun)\n",
    "new_pets = [[35,3,25],[45,6,30],[40,8,25],[60,20,35],[45,15,25]]\n",
    "new_labels = ['Cat','Cat','Cat','Dog','Dog']\n",
    "\n",
    "df_new_pets_encoded = pd.get_dummies(pd.DataFrame(new_pets, columns=feature_names), columns=['size_cm','weight_kg', 'tail_length_cm'])\n",
    "# Aligns features between train and validation DataFrames: in case some feature are missing in the validation dataframe // consistency check\n",
    "df_new_pets_encoded = df_new_pets_encoded.reindex(columns=df_pets_encoded.columns, fill_value=0)\n",
    "\n",
    "validation_prediction = clf.predict(df_new_pets_encoded)\n",
    "print(\"\\nValidation: testing with new values\\n\",\n",
    "      \"\\nValidation predictions:\\n\", validation_prediction,\n",
    "      \"\\nActual validation labels: \\n\", new_labels)\n",
    "\n",
    "# Evaluate the accuracy of new data\n",
    "correct_predictions_dtc = sum(pred == lab for pred, lab in zip(validation_prediction, new_labels))\n",
    "print(f\"Accuracy on new data: {correct_predictions_dtc / len(new_labels) * 100:.2f}%\")\n",
    "\n",
    "#Conclusion\n",
    "print(\"\\nThe model is over-fitted (biased) to our input/training data: there aren't enough different points and features for more accurate discrimination. Between 40-80% accuracy.\")"
   ]
  },
  {
   "cell_type": "markdown",
   "metadata": {
    "id": "8hS4tdDnrgMT"
   },
   "source": [
    "#### 5.4 **[1pt]** Compare the two trees (handmade and scikit-learn) in number of leaves, tree depth, selected features, and thresholds (in English)."
   ]
  },
  {
   "cell_type": "markdown",
   "metadata": {
    "id": "rzHwvughrgMU"
   },
   "source": [
    "Handmade :\n",
    "- Leaves: 4 (returns), tree depth : 3 (nested decisions), Selected feature: 2 (weight and size) and Threshold: 3 (different values)\n",
    "<br>\n",
    "\n",
    "Scikit :\n",
    "- Leaves: 4, tree depth: 3, Selected Feature : 2-3, Threshold : 3 (same value but >= or <)\n",
    "<br>\n",
    "\n",
    "For a simple case like here scikit-learn use the same amount of leaves and tree depth. But it uses the same amount or more feature and different thresholds values. SciKit-Learn classifier is more discriminating/optimized."
   ]
  }
 ],
 "metadata": {
  "colab": {
   "provenance": [
    {
     "file_id": "17XNpmp4hoaKqVxLaUWJCY7dCowtm49IJ",
     "timestamp": 1740161717256
    }
   ]
  },
  "kernelspec": {
   "display_name": "Python 3 (ipykernel)",
   "language": "python",
   "name": "python3"
  },
  "language_info": {
   "codemirror_mode": {
    "name": "ipython",
    "version": 3
   },
   "file_extension": ".py",
   "mimetype": "text/x-python",
   "name": "python",
   "nbconvert_exporter": "python",
   "pygments_lexer": "ipython3",
   "version": "3.10.13"
  }
 },
 "nbformat": 4,
 "nbformat_minor": 4
}

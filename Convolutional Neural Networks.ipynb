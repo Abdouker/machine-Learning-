{
 "cells": [
  {
   "cell_type": "markdown",
   "metadata": {
    "id": "rrJwIlKpnHgH"
   },
   "source": [
    "### Group members (first and last names):\n",
    "- ####  *Abdelhak Kermia*\n",
    "- #### *Emilie Virginie Steffen*\n",
    "- #### *Jean-Pierre Brog*"
   ]
  },
  {
   "cell_type": "markdown",
   "metadata": {
    "id": "jnXg_AaRnHgJ"
   },
   "source": [
    "# Introduction\n",
    "In this exercise, you’ll dive into the core ideas behind Convolutional Neural Networks (CNNs) and build a deeper understanding of how they work, both conceptually and in code.\n",
    "\n",
    "You’ll start by answering a few theory questions to test your understanding of key components like convolution, padding, stride, and max pooling. Then, you’ll apply that knowledge by manually computing the output of a convolutional layer and a max pooling layer, just like a CNN does under the hood.\n",
    "\n",
    "Finally, you’ll put it all together by implementing your own CNN model in PyTorch and experimenting with its architecture to see how different design choices affect performance.\n"
   ]
  },
  {
   "cell_type": "markdown",
   "metadata": {
    "id": "A-lav9hnnHgL"
   },
   "source": [
    "---\n",
    "## How to pass the assignment?\n",
    "Below, you will find the exercise questions. Each question that awards points is numbered and displays the available points in this format: **(0 pts)**.\n",
    "\n",
    "### Answering Questions\n",
    "- Provide your answers in the cell directly below each question.\n",
    "- Use **Markdown** for text-based answers (in **English**).\n",
    "- Use **code cells** for implementations.\n",
    "- **Incomplete or incorrect answers receive 0 points.** Partial credit may be awarded at the teacher's discretion.\n",
    "- Overly detailed answers do not grant extra points. Stick to what is asked.\n",
    "\n",
    "### Critical Thinking Questions and Bonus Exercises\n",
    "- Some questions are marked with a 🧠 (Critical Thinking) or a ⭐ (Bonus Exercise). These are for self-reflection and extra practice.\n",
    "- They are **optional** and do **not** award any points.\n",
    "- Answering them can help reinforce your understanding.\n",
    "\n",
    "### Important Rules\n",
    "- **You may only use packages that have been presented in the assignments.** Using additional packages will result in **0 points**.\n",
    "- Use of Datasets\n",
    "  - Follow the dataset instructions carefully.\n",
    "  - **If no new dataset is provided, continue using the one from the previous question.** Switching datasets without instruction will result in **0 points**.\n",
    "- Code that does not run correctly will result in a **50% deduction** of the points for that question. Ensure your code is functional before submission.\n",
    "\n",
    "### Important Notes\n",
    "- Save your work frequently! (Ctrl + S)\n",
    "- Before submitting, `Restart Session and Run All` cells to ensure everything works correctly.\n",
    "- **You need at least 20 points out of 30 (66%) to pass ✅**\n",
    "---"
   ]
  },
  {
   "cell_type": "code",
   "execution_count": 1,
   "metadata": {
    "ExecuteTime": {
     "end_time": "2025-04-27T18:43:16.387692Z",
     "start_time": "2025-04-27T18:43:16.384337Z"
    },
    "id": "HRSaGH8rFLSv"
   },
   "outputs": [],
   "source": [
    "points = 30"
   ]
  },
  {
   "cell_type": "markdown",
   "metadata": {
    "id": "aO8zuMQOnHgT"
   },
   "source": [
    "# 1. Convolutional Neural Network Fundamentals (12 points)\n",
    "\n",
    "Before diving into code, let's test your understanding of convolutional neural networks with these questions. For each topic, identify which statements are TRUE ✅ and which are FALSE ❌. Each question may have 1, 2, 3, or 4 correct answers.\n",
    "\n",
    "- 4 correct answers: 2 points\n",
    "- 3 correct answers: 1 point\n",
    "- 2 or fewer correct answers: 0 points\n",
    "\n",
    "💡 In Google Colab, you can easily add emojis to markdown cells by typing `:` followed by the emoji's name. For example, typing `:light-bulb` will display a light bulb emoji. This feature is also available as an extension in many IDEs.\n",
    "\n",
    "❗ **TIP:** If a term is unfamiliar to you, look it up in [Google's ML Glossary](https://developers.google.com/machine-learning/glossary) for a simple explanation. "
   ]
  },
  {
   "cell_type": "markdown",
   "metadata": {
    "id": "5SPz8i2waXA8"
   },
   "source": [
    "#### 1.1 **(2pts) Which of the following statements about convolutional layers are true?**\n",
    " A. They are used to detect spatial features like edges and textures. ✅\n",
    "\n",
    " B. They reduce the number of channels in the input tensor. ❌\n",
    "\n",
    " C. They slide learnable filters over the input image. ✅\n",
    "\n",
    " D. They are typically placed after linear layers. ❌\n",
    "\n"
   ]
  },
  {
   "cell_type": "markdown",
   "metadata": {
    "id": "ihRK36waaeLZ"
   },
   "source": [
    "#### 1.2 **(2pts) Which of these are advantages of using max pooling layers?**\n",
    " A. They help reduce overfitting by introducing noise. ❌\n",
    "\n",
    " B. They increase the number of parameters. ❌\n",
    "\n",
    " C. They reduce the spatial dimensions of feature maps. ✅\n",
    "\n",
    " D. They introduce translation invariance. ✅\n",
    "\n",
    "\n",
    "\n"
   ]
  },
  {
   "cell_type": "markdown",
   "metadata": {
    "id": "cMzbBp-Kaj-U"
   },
   "source": [
    "#### 1.3 **(2pts) Why do we often use flattening before passing data to a linear (fully connected) layer in CNNs?**\n",
    " A. Because linear layers expect 1D input tensors. ✅\n",
    "\n",
    " B. To reduce the number of parameters in the network. ❌\n",
    "\n",
    " C. To allow gradients to flow backward during training. ❌\n",
    "\n",
    " D. To convert 2D spatial data into 1D vector format. ✅\n",
    "\n"
   ]
  },
  {
   "cell_type": "markdown",
   "metadata": {
    "id": "n6p8cSCdapjV"
   },
   "source": [
    "#### 1.4 **(2pts) What are the benefits of using the ReLU (Rectified Linear Unit) activation function?**\n",
    " A. It introduces non-linearity into the model. ✅\n",
    "\n",
    " B. It prevents vanishing gradients better than sigmoid or tanh. ✅\n",
    "\n",
    " C. It squashes inputs to a range between 0 and 1. ❌\n",
    "\n",
    " D. It is computationally efficient. ✅\n",
    "\n"
   ]
  },
  {
   "cell_type": "markdown",
   "metadata": {
    "id": "Hna1MwsUatfr"
   },
   "source": [
    "#### 1.5 **(2pts) Which statements about dropout are true?**\n",
    " A. Dropout randomly sets a portion of neurons to zero during training. ✅\n",
    "\n",
    " B. Dropout helps reduce overfitting.  ✅\n",
    "\n",
    " C. Dropout improves performance on the training set. ❌\n",
    "\n",
    " D. Dropout is typically used during both training and inference. ❌\n",
    "\n"
   ]
  },
  {
   "cell_type": "markdown",
   "metadata": {
    "id": "PsfTGTC9axTI"
   },
   "source": [
    "#### 1.6 **(2pts) Which of the following are true about the structure of a typical CNN architecture?**\n",
    " A. It starts with fully connected layers and ends with convolutional layers. ❌\n",
    "\n",
    " B. It often follows the pattern: Conv → ReLU → Pooling → FC. ✅\n",
    "\n",
    " C. It usually requires flattening before fully connected layers. ✅\n",
    "\n",
    " D. It always requires dropout after every layer. ❌"
   ]
  },
  {
   "cell_type": "markdown",
   "metadata": {
    "id": "FLWz3TXe9hb-"
   },
   "source": [
    "---\n",
    "# 2. Hands-On / Math Questions (4 points)\n",
    "All math answers must be formatted with $\\LaTeX$."
   ]
  },
  {
   "cell_type": "markdown",
   "metadata": {
    "id": "UmZOaG0VbDb6"
   },
   "source": [
    "#### 2.1 **(2pts) A neural network consists of one convolutional layer with two filters ($W_1$ and $W_2$) and uses an identity activation function (i.e., no non-linearity). You're given two convolutional kernels and an input matrix ($X$):**\n",
    "\n",
    "- Assume no padding and a stride of 1.\n",
    "- Manually compute the outputs $f_1$ and $f_2$ by applying $W_1$ and $W_2$ to the input matrix $X$.\n",
    "  - Indicate the expected output size.\n",
    "- For each individual value in both output matrices, show your calculation in $\\LaTeX$.\n",
    "  - If you choose to skip or generalize any calculation, explicitly state which entries you skipped and why.\n",
    "- After computing, clearly present the final output matrices for both filters, using $\\LaTeX$:\n",
    "\n",
    "\n",
    "$$\n",
    "W_1 =\n",
    "\\begin{pmatrix}\n",
    "-1 & -1 & -1 \\\\\n",
    " 2 &  2 &  2 \\\\\n",
    "-1 & -1 & -1\n",
    "\\end{pmatrix}\n",
    "\\quad \\quad\n",
    "W_2 =\n",
    "\\begin{pmatrix}\n",
    "-1 & 2 & -1 \\\\\n",
    "-1 & 2 & -1 \\\\\n",
    "-1 & 2 & -1\n",
    "\\end{pmatrix}\n",
    "\\quad \\quad\n",
    "X =\n",
    "\\begin{pmatrix}\n",
    "2 & 2 & 2 & 2 & 2 \\\\\n",
    "3 & 3 & 3 & 3 & 3 \\\\\n",
    "1 & 1 & 1 & 1 & 1 \\\\\n",
    "3 & 3 & 3 & 3 & 3 \\\\\n",
    "2 & 2 & 2 & 2 & 2\n",
    "\\end{pmatrix}\n",
    "$$\n"
   ]
  },
  {
   "cell_type": "markdown",
   "metadata": {},
   "source": [
    "**Expected Output Matrix Size for f1 :** -> f1 is a (3, 3) matrix\n",
    "$$\n",
    "\\begin{align*}\n",
    "& \\text{Output size} = \\left\\lfloor \\frac{n + 2p - k}{s} \\right\\rfloor + 1 \\\\\n",
    "& \\text{with s= stride, p=padding, k= filter size, n = input size, o = output size} \\\\\n",
    "& \\\\\n",
    "& \\text H_{\\text{out}} = \\frac{\\text{input height} - \\text{filter height}}{\\text{stride}} + 1 = \\frac{5 - 3}{1} + 1 = 3 \\\\[1em]\n",
    "& \\text W_{\\text{out}} = \\frac{\\text{input width} - \\text{filter width}}{\\text{stride}} + 1 = \\frac{5 - 3}{1} + 1 = 3 \\\\[1em]\n",
    "\\end{align*}\n",
    "$$\n",
    "\n",
    "**Expected Output Matrix Size for f2:**  -> f2 is a (3, 3) matrix\n",
    "$$\n",
    "\\begin{align*}\n",
    "& \\text H_{\\text{out}} = \\frac{5 - 3}{1} + 1 = 3 \\\\[1em]\n",
    "& \\text W_{\\text{out}} = \\frac{5 - 3}{1} + 1 = 3 \\\\[1em]\n",
    "\\end{align*}\n",
    "$$\n"
   ]
  },
  {
   "cell_type": "markdown",
   "metadata": {
    "id": "KFFnOzSryodQ"
   },
   "source": [
    "**Output Calculations for f1:**\n",
    "$$\n",
    "\\begin{aligned}\n",
    "\\text f_1(1, 1) & = (-1 \\cdot 2 + -1 \\cdot 2 + -1 \\cdot 2) + (2 \\cdot 3 + 2 \\cdot 3 + 2 \\cdot 3) + (-1 \\cdot 1 + -1 \\cdot 1 + -1 \\cdot 1) = -6 + 18 - 3 = 9 \\\\\n",
    "\\text f_1(1, 2) & = (-1 \\cdot 2 + -1 \\cdot 2 + -1 \\cdot 2) + (2 \\cdot 3 + 2 \\cdot 3 + 2 \\cdot 3) + (-1 \\cdot 1 + -1 \\cdot 1 + -1 \\cdot 1) = -6 + 18 - 3 = 9 \\\\\n",
    "\\text f_1(1, 3) & = (-1 \\cdot 2 + -1 \\cdot 2 + -1 \\cdot 2) + (2 \\cdot 3 + 2 \\cdot 3 + 2 \\cdot 3) + (-1 \\cdot 1 + -1 \\cdot 1 + -1 \\cdot 1) = -6 + 18 - 3 = 9 \\\\\n",
    "& \\\\\n",
    "\\text f_1(2, 1) & = (-1 \\cdot 3 + -1 \\cdot 3 + -1 \\cdot 3) + (2 \\cdot 1 + 2 \\cdot 1 + 2 \\cdot 1) + (-1 \\cdot 3 + -1 \\cdot 3 + -1 \\cdot 3) = -9 + 6 - 9 = -12 \\\\\n",
    "\\text f_1(2, 2) & = (-1 \\cdot 3 + -1 \\cdot 3 + -1 \\cdot 3) + (2 \\cdot 1 + 2 \\cdot 1 + 2 \\cdot 1) + (-1 \\cdot 3 + -1 \\cdot 3 + -1 \\cdot 3) = -9 + 6 - 9 = -12 \\\\\n",
    "\\text f_1(2, 3) & = (-1 \\cdot 3 + -1 \\cdot 3 + -1 \\cdot 3) + (2 \\cdot 1 + 2 \\cdot 1 + 2 \\cdot 1) + (-1 \\cdot 3 + -1 \\cdot 3 + -1 \\cdot 3) = -9 + 6 - 9 = -12 \\\\\n",
    "& \\\\\n",
    "\\text f_1(3, 1) & = (-1 \\cdot 1 + -1 \\cdot 1 + -1 \\cdot 1) + (2 \\cdot 3 + 2 \\cdot 3 + 2 \\cdot 3) + (-1 \\cdot 2 + -1 \\cdot 2 + -1 \\cdot 2) = -3 + 18 - 6 = 9 \\\\\n",
    "\\text f_1(3, 2) & = (-1 \\cdot 1 + -1 \\cdot 1 + -1 \\cdot 1) + (2 \\cdot 3 + 2 \\cdot 3 + 2 \\cdot 3) + (-1 \\cdot 2 + -1 \\cdot 2 + -1 \\cdot 2) = -3 + 18 - 6 = 9 \\\\\n",
    "\\text f_1(3, 3) & = (-1 \\cdot 1 + -1 \\cdot 1 + -1 \\cdot 1) + (2 \\cdot 3 + 2 \\cdot 3 + 2 \\cdot 3) + (-1 \\cdot 2 + -1 \\cdot 2 + -1 \\cdot 2) = -3 + 18 - 6 = 9\n",
    "\\end{aligned}\n",
    "$$\n",
    "\n",
    "**Output Calculations for f2:**\n",
    "$$\n",
    "\\begin{aligned}\n",
    "\\text f_2(1, 1) &= (-1 \\cdot 2 + 2 \\cdot 2 + -1 \\cdot 2) + (-1 \\cdot 3 + 2 \\cdot 3 + -1 \\cdot 3) + (-1 \\cdot 1 + 2 \\cdot 1 + -1 \\cdot 1) = 0 + 0 + 0 = 0 \\\\\n",
    "\\text f_2(1, 2) &= (-1 \\cdot 2 + 2 \\cdot 2 + -1 \\cdot 2) + (-1 \\cdot 3 + 2 \\cdot 3 + -1 \\cdot 3) + (-1 \\cdot 1 + 2 \\cdot 1 + -1 \\cdot 1) = 0 + 0 + 0 = 0 \\\\\n",
    "\\text f_2(1, 3) &= (-1 \\cdot 2 + 2 \\cdot 2 + -1 \\cdot 2) + (-1 \\cdot 3 + 2 \\cdot 3 + -1 \\cdot 3) + (-1 \\cdot 1 + 2 \\cdot 1 + -1 \\cdot 1) = 0 + 0 + 0 = 0 \\\\\n",
    "& \\\\\n",
    "\\text f_2(2, 1) &= (-1 \\cdot 3 + 2 \\cdot 3 + -1 \\cdot 3) + (-1 \\cdot 1 + 2 \\cdot 1 + -1 \\cdot 1) + (-1 \\cdot 3 + 2 \\cdot 3 + -1 \\cdot 3) = 0 + 0 + 0 = 0 \\\\\n",
    "\\text f_2(2, 2) &= (-1 \\cdot 3 + 2 \\cdot 3 + -1 \\cdot 3) + (-1 \\cdot 1 + 2 \\cdot 1 + -1 \\cdot 1) + (-1 \\cdot 3 + 2 \\cdot 3 + -1 \\cdot 3) = 0 + 0 + 0 = 0 \\\\\n",
    "\\text f_2(2, 3) &= (-1 \\cdot 3 + 2 \\cdot 3 + -1 \\cdot 3) + (-1 \\cdot 1 + 2 \\cdot 1 + -1 \\cdot 1) + (-1 \\cdot 3 + 2 \\cdot 3 + -1 \\cdot 3) = 0 + 0 + 0 = 0 \\\\\n",
    "& \\\\\n",
    "\\text f_2(3, 1) &= (-1 \\cdot 1 + 2 \\cdot 1 + -1 \\cdot 1) + (-1 \\cdot 3 + 2 \\cdot 3 + -1 \\cdot 3) + (-1 \\cdot 2 + 2 \\cdot 2 + -1 \\cdot 2) = 0 + 0 + 0 = 0 \\\\\n",
    "\\text f_2(3, 2) &= (-1 \\cdot 1 + 2 \\cdot 1 + -1 \\cdot 1) + (-1 \\cdot 3 + 2 \\cdot 3 + -1 \\cdot 3) + (-1 \\cdot 2 + 2 \\cdot 2 + -1 \\cdot 2) = 0 + 0 + 0 = 0 \\\\\n",
    "\\text f_2(3, 3) &= (-1 \\cdot 1 + 2 \\cdot 1 + -1 \\cdot 1) + (-1 \\cdot 3 + 2 \\cdot 3 + -1 \\cdot 3) + (-1 \\cdot 2 + 2 \\cdot 2 + -1 \\cdot 2) = 0 + 0 + 0 = 0\n",
    "\\end{aligned}\n",
    "$$\n",
    "\n",
    "$$\n",
    "f_1 =\n",
    "\\begin{pmatrix}\n",
    "9 & 9 & 9 \\\\\n",
    "-12 & -12 & -12 \\\\\n",
    "9 & 9 & 9\n",
    "\\end{pmatrix}\n",
    "\\quad \\quad\n",
    "f_2 =\n",
    "\\begin{pmatrix}\n",
    "0 & 0 & 0 \\\\\n",
    "0 & 0 & 0 \\\\\n",
    "0 & 0 & 0\n",
    "\\end{pmatrix}\n",
    "\\quad \\quad\n",
    "$$"
   ]
  },
  {
   "cell_type": "markdown",
   "metadata": {},
   "source": [
    "<font color='red'> There are two filters on one input which means the output will be 3x3x2 (-1)"
   ]
  },
  {
   "cell_type": "code",
   "execution_count": 13,
   "metadata": {},
   "outputs": [],
   "source": [
    "points-=1"
   ]
  },
  {
   "cell_type": "markdown",
   "metadata": {
    "id": "Q6P7cty5Ju3o"
   },
   "source": [
    "#### ⭐ Examine the activations/outputs of the two neurons from 2.1. Discuss the reasons behind their differences. In particular, focus on the patterns observed both in the inputs and in the kernels. Go one step further and, based on your understanding, explain which types of features are likely being detected by each of the two kernels."
   ]
  },
  {
   "cell_type": "markdown",
   "metadata": {
    "id": "5ilwUdXlKOQV"
   },
   "source": [
    "W1 filters detects horizontal changes (variations along columns) and W2 detects vertical changes (variations along rows). The input  matrix X has only changes along the horizontal direction (columns), so only the f1 feature map will have non zero values. The feature map f2 won't show any activation since there are no vertical changes (the rows have constant values)\n",
    "\n",
    "The two kernels/filters could be used to detect for examples edges, contour, contrast."
   ]
  },
  {
   "cell_type": "markdown",
   "metadata": {
    "id": "AZ97Z3RfMloW"
   },
   "source": [
    "#### 2.2 **(2pts) Activate a $3 \\times 3$ max pooling layer on the outputs of the two convolutions from your answer to question 2.1. Assume no padding.**"
   ]
  },
  {
   "cell_type": "markdown",
   "metadata": {
    "id": "udUT4_E0NS0G"
   },
   "source": [
    "Since the f1, f2 are 3x3 matrix/tensor and the pooling layer is 3x3 matrix/tensor with no padding, it will give use the max value (1x1 scalar/tensor) of each of the two matrix:\n",
    "\n",
    "**Outputs After 3×3 Max Pooling**\n",
    "\n",
    "MaxPool($f_1$) = 9\n",
    "\n",
    "MaxPool($f_2$) = 0"
   ]
  },
  {
   "cell_type": "markdown",
   "metadata": {
    "id": "RtYNTZzyOGal"
   },
   "source": [
    "#### 🧠 Are the answers to the question above scalars? Why or why not?"
   ]
  },
  {
   "cell_type": "markdown",
   "metadata": {
    "id": "CYwCbnG9OONQ"
   },
   "source": [
    "Yes, they are scalars or tensor of rank 1 because there is no padding we have a 3x3 matrix on a 3x3 feature map (no sliding,striding possible) so only 1 value as output -> scalar."
   ]
  },
  {
   "cell_type": "markdown",
   "metadata": {
    "id": "1oZ-mEpn9lPV"
   },
   "source": [
    "---\n",
    "# 3. Coding (14 points)"
   ]
  },
  {
   "cell_type": "code",
   "execution_count": 2,
   "metadata": {
    "ExecuteTime": {
     "end_time": "2025-04-27T18:43:16.411409Z",
     "start_time": "2025-04-27T18:43:16.403538Z"
    },
    "colab": {
     "base_uri": "https://localhost:8080/"
    },
    "executionInfo": {
     "elapsed": 9931,
     "status": "ok",
     "timestamp": 1744374979213,
     "user": {
      "displayName": "Olivia Lecomte",
      "userId": "07830699269148802057"
     },
     "user_tz": -120
    },
    "id": "JIXs23ZmVG8u",
    "outputId": "3738665d-0b09-40a0-dda9-d472a8eb0ca3"
   },
   "outputs": [
    {
     "name": "stdout",
     "output_type": "stream",
     "text": [
      "cuda\n"
     ]
    }
   ],
   "source": [
    "# These are the packages you'll need today\n",
    "# If you're running on a local environment, make sure everything you need is installed :)\n",
    "\n",
    "# Data manipulation and visualization\n",
    "import matplotlib.pyplot as plt\n",
    "import numpy as np\n",
    "import random\n",
    "\n",
    "# PyTorch libraries for deep learning\n",
    "import torch\n",
    "import torch.nn as nn\n",
    "import torch.optim as optim\n",
    "import torchvision.transforms as transforms\n",
    "import torchvision.datasets as datasets\n",
    "from torch.utils.data import DataLoader\n",
    "\n",
    "# Other libraries\n",
    "from tqdm.notebook import tqdm\n",
    "\n",
    "# Set random seed\n",
    "def set_seed(seed):\n",
    "    torch.manual_seed(seed)\n",
    "    np.random.seed(seed)\n",
    "    random.seed(seed)\n",
    "    torch.cuda.manual_seed_all(seed)\n",
    "\n",
    "set_seed(42)\n",
    "\n",
    "# Set up device (GPU if available, else CPU)\n",
    "device = torch.device(\"cuda\" if torch.cuda.is_available() else \"cpu\")\n",
    "print(device)\n"
   ]
  },
  {
   "cell_type": "markdown",
   "metadata": {
    "id": "C0uUWtF9Bhgg"
   },
   "source": [
    "#### 3.1 **(2pts) Define and apply five different 3x3 convolution filters (identity, box blur, vertical edge detector, horizontal edge detector, and Laplacian filter) to an MNIST image.**\n",
    "\n",
    "- [Create an empty tensor](https://pytorch.org/docs/stable/generated/torch.empty.html) for filters using `torch.empty()`\n",
    "  - The tensor should have dimensions that reflect the number of filters, the number of input channels (MNIST images are grayscale), and the size of each filter (3x3).\n",
    "- Define 5 convolutional filters and assign them to the tensor `weight`.\n",
    "\n",
    "```\n",
    "## identity filter\n",
    "weight[0, 0] = torch.tensor([\n",
    "    [ 0., 0., 0. ],\n",
    "    [ 0., 1., 0. ],\n",
    "    [ 0., 0., 0. ]\n",
    "])\n",
    "## box blur / averaging filter\n",
    "weight[1, 0] = torch.tensor([\n",
    "    [ 1., 1., 1. ],\n",
    "    [ 1., 1., 1. ],\n",
    "    [ 1., 1., 1. ]\n",
    "])\n",
    "## vertical edge detector\n",
    "weight[2, 0] = torch.tensor([\n",
    "    [ -1., 0., 1. ],\n",
    "    [ -1., 0., 1. ],\n",
    "    [ -1., 0., 1. ]\n",
    "])\n",
    "## horizontal edge detector\n",
    "weight[3, 0] = torch.tensor([\n",
    "    [ -1., -1., -1. ],\n",
    "    [ 0., 0., 0. ],\n",
    "    [ 1., 1., 1. ]\n",
    "])\n",
    "## laplacian filter / sharpening\n",
    "weight[4, 0] = torch.tensor([\n",
    "    [ 0., -1., 0. ],\n",
    "    [ -1., 4., -1. ],\n",
    "    [ 0., -1., 0. ]\n",
    "])\n",
    "```\n",
    "You can use the following libraries: `torch`, `torch.nn.functional`, `torchvision.datasets`, `matplotlib`"
   ]
  },
  {
   "cell_type": "code",
   "execution_count": 3,
   "metadata": {
    "ExecuteTime": {
     "end_time": "2025-04-27T18:43:16.663165Z",
     "start_time": "2025-04-27T18:43:16.433222Z"
    },
    "colab": {
     "base_uri": "https://localhost:8080/",
     "height": 454
    },
    "executionInfo": {
     "elapsed": 475,
     "status": "ok",
     "timestamp": 1744376859193,
     "user": {
      "displayName": "Olivia Lecomte",
      "userId": "07830699269148802057"
     },
     "user_tz": -120
    },
    "id": "FYdBDDmZ4EcX",
    "outputId": "9a95c9d4-9d8e-4b1f-d84e-479b33556844"
   },
   "outputs": [
    {
     "name": "stderr",
     "output_type": "stream",
     "text": [
      "100%|██████████| 9.91M/9.91M [00:00<00:00, 10.7MB/s]\n",
      "100%|██████████| 28.9k/28.9k [00:00<00:00, 276kB/s]\n",
      "100%|██████████| 1.65M/1.65M [00:00<00:00, 2.89MB/s]\n",
      "100%|██████████| 4.54k/4.54k [00:00<?, ?B/s]\n"
     ]
    },
    {
     "data": {
      "image/png": "[encoded data removed]",
      "text/plain": [
       "<Figure size 1000x600 with 6 Axes>"
      ]
     },
     "metadata": {},
     "output_type": "display_data"
    }
   ],
   "source": [
    "import torch.nn.functional as F\n",
    "\n",
    "# load MNIST data from PyTorch\n",
    "mnist_train = datasets.MNIST(root='./data', train=True, download=True, transform=transforms.ToTensor())\n",
    "mnist_test = datasets.MNIST(root='./data', train=False, download=True, transform=transforms.ToTensor())\n",
    "\n",
    "# prepare input image\n",
    "x = mnist_train.data[12].float().view(1, 1, 28, 28)\n",
    "\n",
    "# define empty tensor to hold 5 conv filters\n",
    "### YOUR CODE HERE ###\n",
    "weight = torch.empty((5,1,3,3)) # 5 num filters, 1 num channel (3rgb,4rgba), 3 by 3 filter (3,3)  https://pytorch.org/docs/stable/generated/torch.empty.html  size (int...) – a sequence of integers defining the shape of the output tensor. Can be a variable number of arguments or a collection like a list or tuple.\n",
    "\n",
    "# define convolutional filters\n",
    "### YOUR CODE HERE ###\n",
    "weight[0, 0] = torch.tensor([ # Identity filter\n",
    "    [ 0., 0., 0. ],\n",
    "    [ 0., 1., 0. ],\n",
    "    [ 0., 0., 0. ]\n",
    "])\n",
    "weight[1, 0] = torch.tensor([ # Box blur / averaging filter\n",
    "    [ 1., 1., 1. ],\n",
    "    [ 1., 1., 1. ],\n",
    "    [ 1., 1., 1. ]\n",
    "]) / 9.0 # Normalize\n",
    "weight[2, 0] = torch.tensor([ # Vertical edge detector\n",
    "    [ -1., 0., 1. ],\n",
    "    [ -1., 0., 1. ],\n",
    "    [ -1., 0., 1. ]\n",
    "])\n",
    "weight[3, 0] = torch.tensor([ # Horizontal edge detector\n",
    "    [ -1., -1., -1. ],\n",
    "    [ 0., 0., 0. ],\n",
    "    [ 1., 1., 1. ]\n",
    "])\n",
    "weight[4, 0] = torch.tensor([ # Laplacian filter / sharpening\n",
    "    [ 0., -1., 0. ],\n",
    "    [ -1., 4., -1. ],\n",
    "    [ 0., -1., 0. ]\n",
    "])\n",
    "# perform convolution\n",
    "y = F.conv2d(x, weight)\n",
    "\n",
    "# visualize results\n",
    "fig, axes = plt.subplots(2,3, figsize=(10, 6))\n",
    "axes = axes.flatten()\n",
    "\n",
    "axes[0].imshow(x[0,0].detach().numpy(), cmap='gray')\n",
    "axes[0].set_title('Original Image')\n",
    "axes[0].axis('off')\n",
    "\n",
    "filters = ['Identity', 'Box Blur', 'Vertical Edge', 'Horizontal Edge', 'Sharpening']\n",
    "\n",
    "for i in range(5):\n",
    "    axes[i + 1].imshow(y[0,i].detach().numpy(), cmap='gray')\n",
    "    axes[i + 1].set_title(filters[i])\n",
    "    axes[i + 1].axis('off')\n"
   ]
  },
  {
   "cell_type": "markdown",
   "metadata": {
    "id": "H6v4JaxjTeHa"
   },
   "source": [
    "#### 3.2 **(6pts) Implement and Train a CNN for MNIST Classification in PyTorch.**\n",
    "\n",
    "**Strictly follow the given architecture:**\n",
    "- Conv2d Layer 1:\n",
    "  - Input channels: 1, Output channels: 32, Kernel size: 3×3\n",
    "- Activation: ReLU (applied in forward)\n",
    "- MaxPool2d Layer 1:\n",
    "  - Kernel size: 2×2, Stride: 2\n",
    "- Conv2d Layer 2:\n",
    "  - Input channels: 32, Output channels: 64, Kernel size: 3×3\n",
    "- Activation: ReLU (applied in forward)\n",
    "- MaxPool2d Layer 2:\n",
    "  - Kernel size: 2×2, Stride: 2\n",
    "- Flatten Layer: Flattens the tensor into a vector before feeding into the fully connected layer (applied in forward)\n",
    "- Fully Connected (Linear) Layer 1:\n",
    "  - Input features: 64×5×5, Output features: 128\n",
    "- Activation: ReLU (applied in forward)\n",
    "- Followed by Dropout (p = 0.5)\n",
    "- Fully Connected (Linear) Output Layer:\n",
    "  - Input features: 128, Output features: 10 (number of classes in MNIST)\n",
    "- No activation function here (logits are passed to CrossEntropyLoss, which applies Softmax internally)\n",
    "\n",
    "💡 **Hints:**\n",
    "- Define all layers, including `nn.ReLU()` and `nn.Flatten()`, inside the `__init__` method.\n",
    "- Use `nn.Sequential(...)` blocks where appropriate to organize related layers.\n",
    "- Call all layers (including activations) in order in the `forward()` method.\n",
    "- Make sure that the Max Pooling is applied after the ReLu activation function.\n",
    "\n",
    "**Example for a `forward` pass block:**\n",
    "```\n",
    "        x = self.pool1(self.relu(self.conv1(x)))  # Apply Conv1 + ReLU + Pool1\n",
    "```\n",
    "\n",
    "⌛ **Training Tip:**\n",
    "- On CPU, training takes ~1 minute per epoch. You may reduce to 5 epochs if 15 takes too long.\n",
    "- On GPU, each epoch takes ~10 seconds.\n",
    "\n",
    "You can use the following library: `torch.nn`\n",
    "\n",
    "❓ **Help:** Check out this [example code](https://pytorch.org/tutorials/beginner/introyt/modelsyt_tutorial.html#convolutional-layers). Modify it so that you only use `torch.nn`."
   ]
  },
  {
   "cell_type": "code",
   "execution_count": 4,
   "metadata": {
    "ExecuteTime": {
     "end_time": "2025-04-27T18:43:16.679496Z",
     "start_time": "2025-04-27T18:43:16.674781Z"
    },
    "executionInfo": {
     "elapsed": 4,
     "status": "ok",
     "timestamp": 1744378641580,
     "user": {
      "displayName": "Olivia Lecomte",
      "userId": "07830699269148802057"
     },
     "user_tz": -120
    },
    "id": "xPJVb6UgBoT0"
   },
   "outputs": [],
   "source": [
    "class CNNModel(nn.Module):\n",
    "    def __init__(self):\n",
    "        super(CNNModel, self).__init__()\n",
    "        # Convolutional layers //  https://pytorch.org/docs/stable/generated/torch.nn.Conv2d.html kernel_size (Union[int, tuple[int, int]]) 3 by 3 = 3 for square kernel if rectangular put tuple\n",
    "        self.conv_layer1 = nn.Conv2d(1, 32, kernel_size = 3)\n",
    "        self.conv_layer2 = nn.Conv2d(32, 64, kernel_size = 3)\n",
    "\n",
    "        # Pooling layers  //  https://pytorch.org/docs/stable/generated/torch.nn.MaxPool2d.html kernel_size (Union[int, tuple[int, int]]) 3 by 3 = 3 for square kernel if rectangular put tuple\n",
    "        self.pool1 = nn.MaxPool2d(kernel_size=(2, 2),stride=2)\n",
    "        self.pool2 = nn.MaxPool2d(kernel_size=(2, 2),stride=2)\n",
    "        #self.pool2d = nn.MaxPool2d(kernel_size=(2, 2),stride=2) // at runtime, cannot change default arguments/attributes in forward ! Use the F.max_pool2d directly in forward to modify parameters or make multiple pool layers with different parameters.\n",
    "\n",
    "        # Fully connected layers\n",
    "        self.fc_layer1 = nn.Linear(64 * 5 * 5,128)\n",
    "        self.fc_layer2 = nn.Linear(128, 10)\n",
    "\n",
    "        # Flattening, activation and regularization\n",
    "        self.flat = nn.Flatten(1)\n",
    "        self.relu = nn.ReLU()\n",
    "        self.drop = nn.Dropout(p=0.5)\n",
    "\n",
    "    def forward(self,x):\n",
    "        # Convolutional layers with relu activation and max pooling (downsampling)\n",
    "        x = self.pool1(self.relu(self.conv_layer1(x)))\n",
    "        x = self.pool2(self.relu(self.conv_layer2(x)))\n",
    "\n",
    "        # Flattening and FC layers with relu activation and dropout (regularization)\n",
    "        x = self.flat(x)\n",
    "        x = self.drop(self.relu(self.fc_layer1(x)))\n",
    "        x = self.fc_layer2(x)\n",
    "        return x\n"
   ]
  },
  {
   "cell_type": "code",
   "execution_count": 5,
   "metadata": {
    "ExecuteTime": {
     "end_time": "2025-04-27T18:43:16.711647Z",
     "start_time": "2025-04-27T18:43:16.705036Z"
    }
   },
   "outputs": [],
   "source": [
    "# These functions were adapted from Deep Learning by Prof. Paolo Favaro, University of Bern\n",
    "\n",
    "def train_epoch(model, train_dataloader, optimizer, loss_fn):\n",
    "    losses = []\n",
    "    correct_predictions = 0\n",
    "    # Iterate mini batches over training dataset\n",
    "    for features, labels in tqdm(train_dataloader):\n",
    "        features = features.to(device)\n",
    "        labels = labels.to(device)\n",
    "        # Run predictions\n",
    "        output = model(features)\n",
    "        # Set gradients to zero\n",
    "        optimizer.zero_grad()\n",
    "        # Compute loss\n",
    "        loss = loss_fn(output, labels)\n",
    "        # Backpropagate (compute gradients)\n",
    "        loss.backward()\n",
    "        # Make an optimization step (update parameters)\n",
    "        optimizer.step()\n",
    "        # Log metrics\n",
    "        losses.append(loss.item())\n",
    "        predicted_labels = output.argmax(dim=1)\n",
    "        correct_predictions += (predicted_labels == labels).sum().item()\n",
    "    accuracy = 100.0 * correct_predictions / len(train_dataloader.dataset)\n",
    "    # Return loss values for each iteration and accuracy\n",
    "    mean_loss = np.array(losses).mean()\n",
    "    return mean_loss, accuracy\n",
    "\n",
    "def evaluate(model, dataloader, loss_fn):\n",
    "    losses = []\n",
    "    correct_predictions = 0\n",
    "    with torch.no_grad():\n",
    "        for features, labels in dataloader:\n",
    "            features = features.to(device)\n",
    "            labels = labels.to(device)\n",
    "            # Run predictions\n",
    "            output = model(features)\n",
    "            # Compute loss\n",
    "            loss = loss_fn(output, labels)\n",
    "            # Save metrics\n",
    "            predicted_labels = output.argmax(dim=1)\n",
    "            correct_predictions += (predicted_labels == labels).sum().item()\n",
    "            losses.append(loss.item())\n",
    "    mean_loss = np.array(losses).mean()\n",
    "    accuracy = 100.0 * correct_predictions / len(dataloader.dataset)\n",
    "    # Return mean loss and accuracy\n",
    "    return mean_loss, accuracy\n",
    "\n",
    "def train(model, train_dataloader, val_dataloader, optimizer, n_epochs, loss_fn):\n",
    "    # We will monitor loss functions as the training progresses\n",
    "    train_losses = []\n",
    "    val_losses = []\n",
    "    train_accuracies = []\n",
    "    val_accuracies = []\n",
    "\n",
    "    for epoch in range(n_epochs):\n",
    "        model.train()\n",
    "        train_loss, train_accuracy = train_epoch(model, train_dataloader, optimizer, loss_fn)\n",
    "        model.eval()\n",
    "        val_loss, val_accuracy = evaluate(model, val_dataloader, loss_fn)\n",
    "        train_losses.append(train_loss)\n",
    "        val_losses.append(val_loss)\n",
    "        train_accuracies.append(train_accuracy)\n",
    "        val_accuracies.append(val_accuracy)\n",
    "        print('Epoch {}/{}: train_loss: {:.4f}, train_accuracy: {:.4f}, val_loss: {:.4f}, val_accuracy: {:.4f}'.format(epoch+1, n_epochs,\n",
    "                                                                                                      train_losses[-1],\n",
    "                                                                                                      train_accuracies[-1],\n",
    "                                                                                                      val_losses[-1],\n",
    "                                                                                                      val_accuracies[-1]))\n",
    "    return train_losses, val_losses, train_accuracies, val_accuracies\n",
    "\n",
    "def plot(train_losses, val_losses, train_accuracies, val_accuracies, title):\n",
    "    plt.figure()\n",
    "    plt.plot(np.arange(len(train_losses)), train_losses)\n",
    "    plt.plot(np.arange(len(val_losses)), val_losses)\n",
    "    plt.legend(['train_loss', 'val_loss'])\n",
    "    plt.xlabel('epoch')\n",
    "    plt.xticks(np.arange(len(train_losses)), np.arange(1, len(train_losses)+1))\n",
    "    plt.ylabel('loss value')\n",
    "    plt.title('{}: Train/val loss'.format(title))\n",
    "\n",
    "    plt.figure()\n",
    "    plt.plot(np.arange(len(train_accuracies)), train_accuracies)\n",
    "    plt.plot(np.arange(len(val_accuracies)), val_accuracies)\n",
    "    plt.legend(['train_acc', 'val_acc'])\n",
    "    plt.xlabel('epoch')\n",
    "    plt.xticks(np.arange(len(train_losses)), np.arange(1, len(train_losses)+1))\n",
    "    plt.ylabel('accuracy')\n",
    "    plt.title('{}: Train/val accuracy'.format(title))\n"
   ]
  },
  {
   "cell_type": "code",
   "execution_count": 6,
   "metadata": {
    "ExecuteTime": {
     "end_time": "2025-04-27T18:43:16.732898Z",
     "start_time": "2025-04-27T18:43:16.724934Z"
    }
   },
   "outputs": [
    {
     "data": {
      "text/plain": [
       "CNNModel(\n",
       "  (conv_layer1): Conv2d(1, 32, kernel_size=(3, 3), stride=(1, 1))\n",
       "  (conv_layer2): Conv2d(32, 64, kernel_size=(3, 3), stride=(1, 1))\n",
       "  (pool1): MaxPool2d(kernel_size=(2, 2), stride=2, padding=0, dilation=1, ceil_mode=False)\n",
       "  (pool2): MaxPool2d(kernel_size=(2, 2), stride=2, padding=0, dilation=1, ceil_mode=False)\n",
       "  (fc_layer1): Linear(in_features=1600, out_features=128, bias=True)\n",
       "  (fc_layer2): Linear(in_features=128, out_features=10, bias=True)\n",
       "  (flat): Flatten(start_dim=1, end_dim=-1)\n",
       "  (relu): ReLU()\n",
       "  (drop): Dropout(p=0.5, inplace=False)\n",
       ")"
      ]
     },
     "execution_count": 6,
     "metadata": {},
     "output_type": "execute_result"
    }
   ],
   "source": [
    "# data loaders\n",
    "train_loader = DataLoader(mnist_train, batch_size=128, shuffle=True, num_workers=0)\n",
    "val_loader = DataLoader(mnist_test, batch_size=128, shuffle=False, num_workers=0)\n",
    "\n",
    "# instantiate the model\n",
    "model = CNNModel()\n",
    "model.to(device)\n"
   ]
  },
  {
   "cell_type": "code",
   "execution_count": 7,
   "metadata": {
    "ExecuteTime": {
     "end_time": "2025-04-27T18:43:16.768486Z",
     "start_time": "2025-04-27T18:43:16.764866Z"
    }
   },
   "outputs": [],
   "source": [
    "# loss, optimizer, epochs\n",
    "criterion = nn.CrossEntropyLoss()  # Use CrossEntropyLoss for classification\n",
    "optimizer = optim.Adam(model.parameters(), lr=0.001)\n",
    "n_epochs = 15 # you can lower this if it's taking too long to run\n"
   ]
  },
  {
   "cell_type": "code",
   "execution_count": 8,
   "metadata": {
    "ExecuteTime": {
     "end_time": "2025-04-27T18:45:11.069940Z",
     "start_time": "2025-04-27T18:43:16.791386Z"
    }
   },
   "outputs": [
    {
     "data": {
      "application/vnd.jupyter.widget-view+json": {
       "model_id": "31e8ce26aee1470ba68c5e3f62741be2",
       "version_major": 2,
       "version_minor": 0
      },
      "text/plain": [
       "  0%|          | 0/469 [00:00<?, ?it/s]"
      ]
     },
     "metadata": {},
     "output_type": "display_data"
    },
    {
     "name": "stdout",
     "output_type": "stream",
     "text": [
      "Epoch 1/15: train_loss: 0.3594, train_accuracy: 88.9967, val_loss: 0.0724, val_accuracy: 97.7300\n"
     ]
    },
    {
     "data": {
      "application/vnd.jupyter.widget-view+json": {
       "model_id": "ff95a5a21c264eda8e37051191dbe7cd",
       "version_major": 2,
       "version_minor": 0
      },
      "text/plain": [
       "  0%|          | 0/469 [00:00<?, ?it/s]"
      ]
     },
     "metadata": {},
     "output_type": "display_data"
    },
    {
     "name": "stdout",
     "output_type": "stream",
     "text": [
      "Epoch 2/15: train_loss: 0.1071, train_accuracy: 96.8850, val_loss: 0.0436, val_accuracy: 98.5200\n"
     ]
    },
    {
     "data": {
      "application/vnd.jupyter.widget-view+json": {
       "model_id": "88d786e872de47c4bfd6f07c92a18e78",
       "version_major": 2,
       "version_minor": 0
      },
      "text/plain": [
       "  0%|          | 0/469 [00:00<?, ?it/s]"
      ]
     },
     "metadata": {},
     "output_type": "display_data"
    },
    {
     "name": "stdout",
     "output_type": "stream",
     "text": [
      "Epoch 3/15: train_loss: 0.0790, train_accuracy: 97.7017, val_loss: 0.0322, val_accuracy: 98.8700\n"
     ]
    },
    {
     "data": {
      "application/vnd.jupyter.widget-view+json": {
       "model_id": "af4a121e66d8403698289fee97b84e1b",
       "version_major": 2,
       "version_minor": 0
      },
      "text/plain": [
       "  0%|          | 0/469 [00:00<?, ?it/s]"
      ]
     },
     "metadata": {},
     "output_type": "display_data"
    },
    {
     "name": "stdout",
     "output_type": "stream",
     "text": [
      "Epoch 4/15: train_loss: 0.0633, train_accuracy: 98.1350, val_loss: 0.0291, val_accuracy: 99.0100\n"
     ]
    },
    {
     "data": {
      "application/vnd.jupyter.widget-view+json": {
       "model_id": "fc941976dfe34271b078635cc92d48a1",
       "version_major": 2,
       "version_minor": 0
      },
      "text/plain": [
       "  0%|          | 0/469 [00:00<?, ?it/s]"
      ]
     },
     "metadata": {},
     "output_type": "display_data"
    },
    {
     "name": "stdout",
     "output_type": "stream",
     "text": [
      "Epoch 5/15: train_loss: 0.0562, train_accuracy: 98.3450, val_loss: 0.0300, val_accuracy: 99.0300\n"
     ]
    },
    {
     "data": {
      "application/vnd.jupyter.widget-view+json": {
       "model_id": "9976b411d5d341e092d9873f145368d7",
       "version_major": 2,
       "version_minor": 0
      },
      "text/plain": [
       "  0%|          | 0/469 [00:00<?, ?it/s]"
      ]
     },
     "metadata": {},
     "output_type": "display_data"
    },
    {
     "name": "stdout",
     "output_type": "stream",
     "text": [
      "Epoch 6/15: train_loss: 0.0471, train_accuracy: 98.6133, val_loss: 0.0268, val_accuracy: 99.1200\n"
     ]
    },
    {
     "data": {
      "application/vnd.jupyter.widget-view+json": {
       "model_id": "728492e88fbd4d74a7e7568478576e27",
       "version_major": 2,
       "version_minor": 0
      },
      "text/plain": [
       "  0%|          | 0/469 [00:00<?, ?it/s]"
      ]
     },
     "metadata": {},
     "output_type": "display_data"
    },
    {
     "name": "stdout",
     "output_type": "stream",
     "text": [
      "Epoch 7/15: train_loss: 0.0402, train_accuracy: 98.8083, val_loss: 0.0248, val_accuracy: 99.1600\n"
     ]
    },
    {
     "data": {
      "application/vnd.jupyter.widget-view+json": {
       "model_id": "bc246bd02bab4fa39e1af491b4b66cd1",
       "version_major": 2,
       "version_minor": 0
      },
      "text/plain": [
       "  0%|          | 0/469 [00:00<?, ?it/s]"
      ]
     },
     "metadata": {},
     "output_type": "display_data"
    },
    {
     "name": "stdout",
     "output_type": "stream",
     "text": [
      "Epoch 8/15: train_loss: 0.0382, train_accuracy: 98.8750, val_loss: 0.0242, val_accuracy: 99.1400\n"
     ]
    },
    {
     "data": {
      "application/vnd.jupyter.widget-view+json": {
       "model_id": "3eca41eea3a84fcebfdd28fa726ae021",
       "version_major": 2,
       "version_minor": 0
      },
      "text/plain": [
       "  0%|          | 0/469 [00:00<?, ?it/s]"
      ]
     },
     "metadata": {},
     "output_type": "display_data"
    },
    {
     "name": "stdout",
     "output_type": "stream",
     "text": [
      "Epoch 9/15: train_loss: 0.0331, train_accuracy: 98.9650, val_loss: 0.0249, val_accuracy: 99.2100\n"
     ]
    },
    {
     "data": {
      "application/vnd.jupyter.widget-view+json": {
       "model_id": "e97eef01fa4a481b9ede36a9453334d6",
       "version_major": 2,
       "version_minor": 0
      },
      "text/plain": [
       "  0%|          | 0/469 [00:00<?, ?it/s]"
      ]
     },
     "metadata": {},
     "output_type": "display_data"
    },
    {
     "name": "stdout",
     "output_type": "stream",
     "text": [
      "Epoch 10/15: train_loss: 0.0317, train_accuracy: 99.0083, val_loss: 0.0244, val_accuracy: 99.2300\n"
     ]
    },
    {
     "data": {
      "application/vnd.jupyter.widget-view+json": {
       "model_id": "2cb821a6003940c59195858b13d53323",
       "version_major": 2,
       "version_minor": 0
      },
      "text/plain": [
       "  0%|          | 0/469 [00:00<?, ?it/s]"
      ]
     },
     "metadata": {},
     "output_type": "display_data"
    },
    {
     "name": "stdout",
     "output_type": "stream",
     "text": [
      "Epoch 11/15: train_loss: 0.0294, train_accuracy: 99.0767, val_loss: 0.0252, val_accuracy: 99.1300\n"
     ]
    },
    {
     "data": {
      "application/vnd.jupyter.widget-view+json": {
       "model_id": "d8b78e4a847244b9a7ce659e8d034d10",
       "version_major": 2,
       "version_minor": 0
      },
      "text/plain": [
       "  0%|          | 0/469 [00:00<?, ?it/s]"
      ]
     },
     "metadata": {},
     "output_type": "display_data"
    },
    {
     "name": "stdout",
     "output_type": "stream",
     "text": [
      "Epoch 12/15: train_loss: 0.0250, train_accuracy: 99.2383, val_loss: 0.0220, val_accuracy: 99.2200\n"
     ]
    },
    {
     "data": {
      "application/vnd.jupyter.widget-view+json": {
       "model_id": "ad6a8466dabb483dbeae655db95497f0",
       "version_major": 2,
       "version_minor": 0
      },
      "text/plain": [
       "  0%|          | 0/469 [00:00<?, ?it/s]"
      ]
     },
     "metadata": {},
     "output_type": "display_data"
    },
    {
     "name": "stdout",
     "output_type": "stream",
     "text": [
      "Epoch 13/15: train_loss: 0.0240, train_accuracy: 99.2283, val_loss: 0.0212, val_accuracy: 99.3500\n"
     ]
    },
    {
     "data": {
      "application/vnd.jupyter.widget-view+json": {
       "model_id": "a8b106724c874289985c541e52846791",
       "version_major": 2,
       "version_minor": 0
      },
      "text/plain": [
       "  0%|          | 0/469 [00:00<?, ?it/s]"
      ]
     },
     "metadata": {},
     "output_type": "display_data"
    },
    {
     "name": "stdout",
     "output_type": "stream",
     "text": [
      "Epoch 14/15: train_loss: 0.0217, train_accuracy: 99.3033, val_loss: 0.0229, val_accuracy: 99.2800\n"
     ]
    },
    {
     "data": {
      "application/vnd.jupyter.widget-view+json": {
       "model_id": "ef50a8a0ac2c4240b57f585ecbb0b480",
       "version_major": 2,
       "version_minor": 0
      },
      "text/plain": [
       "  0%|          | 0/469 [00:00<?, ?it/s]"
      ]
     },
     "metadata": {},
     "output_type": "display_data"
    },
    {
     "name": "stdout",
     "output_type": "stream",
     "text": [
      "Epoch 15/15: train_loss: 0.0212, train_accuracy: 99.3233, val_loss: 0.0227, val_accuracy: 99.3500\n"
     ]
    }
   ],
   "source": [
    "# train model\n",
    "train_losses, val_losses, train_acc, val_acc = train(model, train_loader, val_loader, optimizer, n_epochs, criterion)\n"
   ]
  },
  {
   "cell_type": "code",
   "execution_count": 9,
   "metadata": {
    "ExecuteTime": {
     "end_time": "2025-04-27T18:45:11.365020Z",
     "start_time": "2025-04-27T18:45:11.142107Z"
    }
   },
   "outputs": [
    {
     "data": {
      "image/png": "[encoded data removed]",
      "text/plain": [
       "<Figure size 640x480 with 1 Axes>"
      ]
     },
     "metadata": {},
     "output_type": "display_data"
    },
    {
     "data": {
      "image/png": "[encoded data removed]",
      "text/plain": [
       "<Figure size 640x480 with 1 Axes>"
      ]
     },
     "metadata": {},
     "output_type": "display_data"
    }
   ],
   "source": [
    "# visualize results\n",
    "plot(train_losses, val_losses, train_acc, val_acc, title='CNN')\n"
   ]
  },
  {
   "cell_type": "code",
   "execution_count": 10,
   "metadata": {
    "ExecuteTime": {
     "end_time": "2025-04-27T18:45:12.311367Z",
     "start_time": "2025-04-27T18:45:11.388406Z"
    }
   },
   "outputs": [
    {
     "name": "stdout",
     "output_type": "stream",
     "text": [
      "CNN MNIST. Validation loss: 0.0227, validation accuracy: 99.3500\n"
     ]
    }
   ],
   "source": [
    "# Evaluate on last model\n",
    "val_loss, val_accuracy = evaluate(model, val_loader, criterion)\n",
    "print('CNN MNIST. Validation loss: {:.4f}, validation accuracy: {:.4f}'.format(val_loss, val_accuracy))\n"
   ]
  },
  {
   "cell_type": "markdown",
   "metadata": {},
   "source": [
    "#### 3.3 **(2pts) Use the `visualize_conv()` function provided below to observe how changing the kernel size, stride, and padding affects the appearance and resolution of an MNIST image after a convolution.**\n",
    "\n",
    "Call the function multiple times on the `x` image defined in Exercise 3.1, modifying each of the following parameters at least once: `kernel_size`, `stride`, `padding`\n",
    "\n",
    "\n",
    "💡 **Tip:** Try extreme or unexpected values to see how they affect the output. You don’t have to get a ✨ *good* ✨ result, this is all about exploring and learning!"
   ]
  },
  {
   "cell_type": "code",
   "execution_count": 11,
   "metadata": {
    "ExecuteTime": {
     "end_time": "2025-04-27T18:45:13.175120Z",
     "start_time": "2025-04-27T18:45:12.323417Z"
    }
   },
   "outputs": [
    {
     "data": {
      "image/png": "[encoded data removed]",
      "text/plain": [
       "<Figure size 1000x500 with 2 Axes>"
      ]
     },
     "metadata": {},
     "output_type": "display_data"
    },
    {
     "data": {
      "image/png": "[encoded data removed]",
      "text/plain": [
       "<Figure size 1000x500 with 2 Axes>"
      ]
     },
     "metadata": {},
     "output_type": "display_data"
    },
    {
     "data": {
      "image/png": "[encoded data removed]",
      "text/plain": [
       "<Figure size 1000x500 with 2 Axes>"
      ]
     },
     "metadata": {},
     "output_type": "display_data"
    },
    {
     "data": {
      "image/png": "[encoded data removed]",
      "text/plain": [
       "<Figure size 1000x500 with 2 Axes>"
      ]
     },
     "metadata": {},
     "output_type": "display_data"
    },
    {
     "data": {
      "image/png": "[encoded data removed]",
      "text/plain": [
       "<Figure size 1000x500 with 2 Axes>"
      ]
     },
     "metadata": {},
     "output_type": "display_data"
    },
    {
     "data": {
      "image/png": "[encoded data removed]",
      "text/plain": [
       "<Figure size 1000x500 with 2 Axes>"
      ]
     },
     "metadata": {},
     "output_type": "display_data"
    }
   ],
   "source": [
    "# Define a function to apply convolution and plot the result\n",
    "def visualize_conv(image, kernel_size=3, stride=1, padding=0):\n",
    "    # Define the convolutional layer\n",
    "    conv_layer = nn.Conv2d(1, 1, kernel_size=kernel_size, stride=stride, padding=padding)\n",
    "    \n",
    "    # Apply the convolution (unsqueeze to add batch and channel dimension)\n",
    "    output = conv_layer(image)\n",
    "    \n",
    "    # Remove batch and channel dims for display\n",
    "    output = output.squeeze().detach().numpy()\n",
    "\n",
    "    # Plot the original and convolved images\n",
    "    fig, ax = plt.subplots(1, 2, figsize=(10, 5))\n",
    "\n",
    "    ax[0].imshow(image.squeeze(), cmap='gray')\n",
    "    ax[0].set_title(\"Original Image\")\n",
    "    \n",
    "    ax[1].imshow(output, cmap='gray')\n",
    "    ax[1].set_title(f\"Conv Output: Stride={stride}, Padding={padding}\")\n",
    "    \n",
    "    plt.show()\n",
    "\n",
    "# Try different combinations of stride and padding\n",
    "visualize_conv(x,kernel_size=6,stride=1,padding=3) # large / blurry edges (large kernel), small grain/pixel, large kernel captures broader context\n",
    "visualize_conv(x,4,2,0) # reduce output/ downsampled (stride) broader pixels/grain, less resolution\n",
    "visualize_conv(x,4,3,0) # reduce output size more / larger grain/pixel even less details/ resolution\n",
    "visualize_conv(x,3,2,1) # smaller grain but with higher details/contrast (smaller kernel) padding help to not reduce too much the output size\n",
    "visualize_conv(x,3,1,2) # smaller grain/ sharper edges (smaller kernel) still a bit blurry/broad features,keep resolution with stride =1.\n",
    "visualize_conv(x,2,1,3) # more details (smallest kernel), sharper edges, maintain size of feature map with padding, keep resolution with stride =1.\n"
   ]
  },
  {
   "cell_type": "markdown",
   "metadata": {},
   "source": [
    "#### 3.5 **(4pts) Experiment with different architectural choices including parameters like stride, padding, and kernel size. Observe how they affect the model’s behavior and performance.**\n",
    "\n",
    "1. **Create a new `nn.Module` class with a different architecture than the one from Exercise 3.2.**\n",
    "    - **Start by modifying the stride and padding** in at least one of your convolutional layers.\n",
    "    - You can also explore additional changes to see how they affect performance, such as:\n",
    "        - Adjusting the kernel size\n",
    "        - Changing the number of convolutional layers\n",
    "        - Trying different activation functions\n",
    "        - Adding Dropout, Batch Normalization, or other regularization techniques\n",
    "\n",
    "2. **Training & Evaluation:**\n",
    "    - Train your custom model on `MNIST` (loaded above).\n",
    "    - Evaluate its performance on the validation set.\n",
    "    \n",
    "    Don’t worry if the results are worse than before, this is all about experimentation 🧪\n",
    "\n",
    "3. **Reflection (2–4 sentences):**\n",
    "    - In a markdown cell, answer the following:\n",
    "        - What changes did you make and why?\n",
    "        - What did you expect to happen?\n",
    "        - What actually happened?\n",
    "\n",
    "💡 **Hint:** You’ll need to recalculate the input size for your first fully connected (Linear) layer. Here are three ways to do it:\n",
    "\n",
    "1. Manual Calculation: Compute the size of the feature map after all convolution and pooling layers by hand, then hard-code the value in your `Linear` layer.\n",
    "\n",
    "2. Dynamic Calculation: Let PyTorch compute it for you using a dummy input:\n",
    "```\n",
    "with torch.no_grad():\n",
    "    dummy_input = torch.zeros(1, 1, 28, 28)  # Assuming MNIST input shape (1 channel, 28x28)\n",
    "    x = self.pool1(self.relu(self.conv1(dummy_input)))\n",
    "    x = self.pool2(self.relu(self.conv2(x)))\n",
    "    flattened_size = x.view(1, -1).shape[1]\n",
    "```\n",
    "This helps avoid errors when you tweak the architecture later.\n",
    "\n",
    "3. Use [`LazyLinear`](https://pytorch.org/docs/stable/generated/torch.nn.LazyLinear.html): This special layer infers the input size the first time it sees data. You don’t need to specify the input features:\n",
    "```\n",
    "self.fc1 = nn.LazyLinear(128)\n",
    "```\n",
    "⚠️ This option is simple but it may cause issues."
   ]
  },
  {
   "cell_type": "code",
   "execution_count": 12,
   "metadata": {
    "ExecuteTime": {
     "end_time": "2025-04-27T18:47:12.388834Z",
     "start_time": "2025-04-27T18:45:13.207382Z"
    }
   },
   "outputs": [
    {
     "data": {
      "application/vnd.jupyter.widget-view+json": {
       "model_id": "c5cee8c06ad54ed7b777b3768c431d7f",
       "version_major": 2,
       "version_minor": 0
      },
      "text/plain": [
       "  0%|          | 0/469 [00:00<?, ?it/s]"
      ]
     },
     "metadata": {},
     "output_type": "display_data"
    },
    {
     "name": "stdout",
     "output_type": "stream",
     "text": [
      "Epoch 1/15: train_loss: 0.1234, train_accuracy: 97.5583, val_loss: 0.0330, val_accuracy: 99.0600\n"
     ]
    },
    {
     "data": {
      "application/vnd.jupyter.widget-view+json": {
       "model_id": "47fdcf68a2ca4409a0d4bb85ecefede8",
       "version_major": 2,
       "version_minor": 0
      },
      "text/plain": [
       "  0%|          | 0/469 [00:00<?, ?it/s]"
      ]
     },
     "metadata": {},
     "output_type": "display_data"
    },
    {
     "name": "stdout",
     "output_type": "stream",
     "text": [
      "Epoch 2/15: train_loss: 0.0403, train_accuracy: 98.8833, val_loss: 0.0315, val_accuracy: 98.9200\n"
     ]
    },
    {
     "data": {
      "application/vnd.jupyter.widget-view+json": {
       "model_id": "5428a842de184f699692aec65c5040fb",
       "version_major": 2,
       "version_minor": 0
      },
      "text/plain": [
       "  0%|          | 0/469 [00:00<?, ?it/s]"
      ]
     },
     "metadata": {},
     "output_type": "display_data"
    },
    {
     "name": "stdout",
     "output_type": "stream",
     "text": [
      "Epoch 3/15: train_loss: 0.0315, train_accuracy: 99.0517, val_loss: 0.0189, val_accuracy: 99.4100\n"
     ]
    },
    {
     "data": {
      "application/vnd.jupyter.widget-view+json": {
       "model_id": "8ecce656c5fc4210bc629bbcae2bbe94",
       "version_major": 2,
       "version_minor": 0
      },
      "text/plain": [
       "  0%|          | 0/469 [00:00<?, ?it/s]"
      ]
     },
     "metadata": {},
     "output_type": "display_data"
    },
    {
     "name": "stdout",
     "output_type": "stream",
     "text": [
      "Epoch 4/15: train_loss: 0.0266, train_accuracy: 99.2433, val_loss: 0.0277, val_accuracy: 99.0200\n"
     ]
    },
    {
     "data": {
      "application/vnd.jupyter.widget-view+json": {
       "model_id": "96316f96f7084d3aac44fe1e267f835a",
       "version_major": 2,
       "version_minor": 0
      },
      "text/plain": [
       "  0%|          | 0/469 [00:00<?, ?it/s]"
      ]
     },
     "metadata": {},
     "output_type": "display_data"
    },
    {
     "name": "stdout",
     "output_type": "stream",
     "text": [
      "Epoch 5/15: train_loss: 0.0223, train_accuracy: 99.3650, val_loss: 0.0174, val_accuracy: 99.3800\n"
     ]
    },
    {
     "data": {
      "application/vnd.jupyter.widget-view+json": {
       "model_id": "fcc5960577514f8b8d19806f5c319b0d",
       "version_major": 2,
       "version_minor": 0
      },
      "text/plain": [
       "  0%|          | 0/469 [00:00<?, ?it/s]"
      ]
     },
     "metadata": {},
     "output_type": "display_data"
    },
    {
     "name": "stdout",
     "output_type": "stream",
     "text": [
      "Epoch 6/15: train_loss: 0.0205, train_accuracy: 99.3667, val_loss: 0.0237, val_accuracy: 99.2300\n"
     ]
    },
    {
     "data": {
      "application/vnd.jupyter.widget-view+json": {
       "model_id": "d972695cbeb4472f8275028dd4a143ca",
       "version_major": 2,
       "version_minor": 0
      },
      "text/plain": [
       "  0%|          | 0/469 [00:00<?, ?it/s]"
      ]
     },
     "metadata": {},
     "output_type": "display_data"
    },
    {
     "name": "stdout",
     "output_type": "stream",
     "text": [
      "Epoch 7/15: train_loss: 0.0176, train_accuracy: 99.4900, val_loss: 0.0196, val_accuracy: 99.3400\n"
     ]
    },
    {
     "data": {
      "application/vnd.jupyter.widget-view+json": {
       "model_id": "9453661a1bd9410796c0d2a94d349a13",
       "version_major": 2,
       "version_minor": 0
      },
      "text/plain": [
       "  0%|          | 0/469 [00:00<?, ?it/s]"
      ]
     },
     "metadata": {},
     "output_type": "display_data"
    },
    {
     "name": "stdout",
     "output_type": "stream",
     "text": [
      "Epoch 8/15: train_loss: 0.0151, train_accuracy: 99.5500, val_loss: 0.0146, val_accuracy: 99.5800\n"
     ]
    },
    {
     "data": {
      "application/vnd.jupyter.widget-view+json": {
       "model_id": "9aa367bbc6e34c5285df2ef15a1721c5",
       "version_major": 2,
       "version_minor": 0
      },
      "text/plain": [
       "  0%|          | 0/469 [00:00<?, ?it/s]"
      ]
     },
     "metadata": {},
     "output_type": "display_data"
    },
    {
     "name": "stdout",
     "output_type": "stream",
     "text": [
      "Epoch 9/15: train_loss: 0.0142, train_accuracy: 99.5283, val_loss: 0.0164, val_accuracy: 99.4800\n"
     ]
    },
    {
     "data": {
      "application/vnd.jupyter.widget-view+json": {
       "model_id": "36f70441cb804ae99eed13ebb9569f19",
       "version_major": 2,
       "version_minor": 0
      },
      "text/plain": [
       "  0%|          | 0/469 [00:00<?, ?it/s]"
      ]
     },
     "metadata": {},
     "output_type": "display_data"
    },
    {
     "name": "stdout",
     "output_type": "stream",
     "text": [
      "Epoch 10/15: train_loss: 0.0133, train_accuracy: 99.5817, val_loss: 0.0173, val_accuracy: 99.4200\n"
     ]
    },
    {
     "data": {
      "application/vnd.jupyter.widget-view+json": {
       "model_id": "d1659bba00824da7a7254819ca708cf0",
       "version_major": 2,
       "version_minor": 0
      },
      "text/plain": [
       "  0%|          | 0/469 [00:00<?, ?it/s]"
      ]
     },
     "metadata": {},
     "output_type": "display_data"
    },
    {
     "name": "stdout",
     "output_type": "stream",
     "text": [
      "Epoch 11/15: train_loss: 0.0109, train_accuracy: 99.6550, val_loss: 0.0136, val_accuracy: 99.4900\n"
     ]
    },
    {
     "data": {
      "application/vnd.jupyter.widget-view+json": {
       "model_id": "b8b2aea211204f7cbf184d84d0246c2b",
       "version_major": 2,
       "version_minor": 0
      },
      "text/plain": [
       "  0%|          | 0/469 [00:00<?, ?it/s]"
      ]
     },
     "metadata": {},
     "output_type": "display_data"
    },
    {
     "name": "stdout",
     "output_type": "stream",
     "text": [
      "Epoch 12/15: train_loss: 0.0096, train_accuracy: 99.7033, val_loss: 0.0179, val_accuracy: 99.4000\n"
     ]
    },
    {
     "data": {
      "application/vnd.jupyter.widget-view+json": {
       "model_id": "1c245a79ef55490c94fc8f9c924dc711",
       "version_major": 2,
       "version_minor": 0
      },
      "text/plain": [
       "  0%|          | 0/469 [00:00<?, ?it/s]"
      ]
     },
     "metadata": {},
     "output_type": "display_data"
    },
    {
     "name": "stdout",
     "output_type": "stream",
     "text": [
      "Epoch 13/15: train_loss: 0.0095, train_accuracy: 99.7167, val_loss: 0.0190, val_accuracy: 99.3400\n"
     ]
    },
    {
     "data": {
      "application/vnd.jupyter.widget-view+json": {
       "model_id": "01b7be52cc354dfd9bc82eb9b10d2005",
       "version_major": 2,
       "version_minor": 0
      },
      "text/plain": [
       "  0%|          | 0/469 [00:00<?, ?it/s]"
      ]
     },
     "metadata": {},
     "output_type": "display_data"
    },
    {
     "name": "stdout",
     "output_type": "stream",
     "text": [
      "Epoch 14/15: train_loss: 0.0094, train_accuracy: 99.7050, val_loss: 0.0210, val_accuracy: 99.3700\n"
     ]
    },
    {
     "data": {
      "application/vnd.jupyter.widget-view+json": {
       "model_id": "1b2e019979dc4ba0bfedd80afae9df7d",
       "version_major": 2,
       "version_minor": 0
      },
      "text/plain": [
       "  0%|          | 0/469 [00:00<?, ?it/s]"
      ]
     },
     "metadata": {},
     "output_type": "display_data"
    },
    {
     "name": "stdout",
     "output_type": "stream",
     "text": [
      "Epoch 15/15: train_loss: 0.0082, train_accuracy: 99.7200, val_loss: 0.0184, val_accuracy: 99.5200\n",
      "CNN MNIST. Validation loss: 0.0184, validation accuracy: 99.5200\n"
     ]
    },
    {
     "data": {
      "image/png": "[encoded data removed]",
      "text/plain": [
       "<Figure size 640x480 with 1 Axes>"
      ]
     },
     "metadata": {},
     "output_type": "display_data"
    },
    {
     "data": {
      "image/png": "[encoded data removed]",
      "text/plain": [
       "<Figure size 640x480 with 1 Axes>"
      ]
     },
     "metadata": {},
     "output_type": "display_data"
    }
   ],
   "source": [
    "class MyCNNModel(nn.Module):\n",
    "    def __init__(self):\n",
    "        super(MyCNNModel, self).__init__()\n",
    "\n",
    "        #Convolutional layers\n",
    "        self.conv_layer1 = nn.Conv2d(1, 32, 3)\n",
    "        self.conv_layer2 = nn.Conv2d(32, 64, 3)\n",
    "        self.conv_layer3 = nn.Conv2d(64, 128, 3)\n",
    "\n",
    "        # Pooling layer\n",
    "        self.pool1= nn.MaxPool2d(kernel_size=(2, 2),stride=1, padding=1)\n",
    "        self.pool2= nn.MaxPool2d(kernel_size=(3, 3),stride=2, padding=1)\n",
    "        self.pool3= nn.MaxPool2d(kernel_size=(4, 4),stride=1, padding=2)\n",
    "\n",
    "        # Flattening, Activation, Regularization\n",
    "        self.flatten= nn.Flatten(1)\n",
    "        self.lrelu= nn.LeakyReLU(0.2) # instead of relu take some negative value, neurons stay active for more values.\n",
    "        self.relu= nn.ReLU()\n",
    "        self.dropout = nn.Dropout(p=0.5)\n",
    "        self.batchnorm1d= nn.BatchNorm1d(128)\n",
    "\n",
    "        # Full connected layers\n",
    "        with torch.no_grad():\n",
    "            dummy_input = torch.zeros(1, 1, 28, 28)  # Assuming MNIST input shape (1 channel, 28x28)\n",
    "            x = self.pool1(self.lrelu(self.conv_layer1(dummy_input)))\n",
    "            x = self.pool2(self.lrelu(self.conv_layer2(x)))\n",
    "            x = self.pool3(self.lrelu(self.conv_layer3(x)))\n",
    "            flattened_size = x.view(1, -1).shape[1]\n",
    "        #print(f\"The flattened size is: {flattened_size}\") # -> less neurones than before, stride + larger kernels\n",
    "\n",
    "        self.fc_layer1=nn.Linear(flattened_size,128)\n",
    "        self.fc_layer2 = nn.Linear(128, 10)\n",
    "\n",
    "    def forward(self,x):\n",
    "\n",
    "        x = self.pool1(self.lrelu(self.conv_layer1(x)))\n",
    "        x = self.pool2(self.lrelu(self.conv_layer2(x)))\n",
    "        x = self.pool3(self.lrelu(self.conv_layer3(x)))\n",
    "        x = self.flatten(x)\n",
    "        x = self.dropout(self.relu(self.batchnorm1d(self.fc_layer1(x))))\n",
    "        x = self.fc_layer2(x)\n",
    "\n",
    "        return x\n",
    "\n",
    "# instantiate the model\n",
    "model = MyCNNModel()\n",
    "model.to(device)\n",
    "\n",
    "# loss, optimizer, epochs\n",
    "criterion = nn.CrossEntropyLoss()  # Use CrossEntropyLoss for classification\n",
    "optimizer = optim.Adam(model.parameters(), lr=0.001)\n",
    "n_epochs = 15 # you can lower this if it's taking too long to run\n",
    "\n",
    "# train model\n",
    "train_losses, val_losses, train_acc, val_acc = train(model, train_loader, val_loader, optimizer, n_epochs, criterion)\n",
    "\n",
    "# visualize results\n",
    "plot(train_losses, val_losses, train_acc, val_acc, title='CNN')\n",
    "\n",
    "# Evaluate on last model\n",
    "val_loss, val_accuracy = evaluate(model, val_loader, criterion)\n",
    "print('CNN MNIST. Validation loss: {:.4f}, validation accuracy: {:.4f}'.format(val_loss, val_accuracy))"
   ]
  },
  {
   "cell_type": "markdown",
   "metadata": {},
   "source": [
    "Changes in Architecture:\n",
    "   - Added a third/last convolutional layer: with a modified maxpool kernel_size, stride and padding and more neurons on this new layer, and modified kernel, stride and padding on the other conv layers.\n",
    "   - Modified activation function with leaky Relu in the 3 convolutional layers,\n",
    "   - Added batch normalization to fully connected layer 1.\n",
    "\n",
    "Expected:\n",
    "   - Faster convergence of training, higher accuracy for training and validation (better generalization), lower losses. (batchnorm + more conv layers)\n",
    "   - Some overfitting with too much complexity: depth and features/details learned. In the conv. layers: the larger kernel (with padding) should get us coarser details/features/edges of the images and the smaller kernel the finer details. The stride=2 should shrink the feature map by half and the padding compensate a bit this shrinking. leaky relu let more neurons active: more depth.\n",
    "\n",
    "Observed:\n",
    "   - Training convergence is indeed faster and training accuracy is higher (loss is lower) than before. The validation accuracy and losses are a bit better than before (0.2%): generalization is a bit improved.\n",
    "   - Training accuracy is still increasing with epochs and the validation not so much meaning we are probably overfitting the data after 7-8 epochs. (validation loss tends to stagnate too from 7-8 epochs)"
   ]
  },
  {
   "cell_type": "code",
   "execution_count": 14,
   "metadata": {},
   "outputs": [
    {
     "data": {
      "text/plain": [
       "29"
      ]
     },
     "execution_count": 14,
     "metadata": {},
     "output_type": "execute_result"
    }
   ],
   "source": [
    "points"
   ]
  },
  {
   "cell_type": "markdown",
   "metadata": {
    "id": "3yzkn9pAWN4v"
   },
   "source": [
    "---\n",
    "**Congratulations on completing this assignment!** 🎉  \n",
    "\n",
    "You’ve taken your first steps into the world of Convolutional Neural Networks! By experimenting with convolutional layers, max pooling, stride, padding, dropout, and flattening, you’ve built and evaluated models that can classify handwritten digits from the MNIST dataset.\n",
    "\n",
    "Great work, and happy coding! 🚀💻"
   ]
  }
 ],
 "metadata": {
  "colab": {
   "provenance": [
    {
     "file_id": "1qtKzLvb2sMnivcmAX7vDZNUjkDTW8BCs",
     "timestamp": 1742751475201
    },
    {
     "file_id": "1lHTdcnKRobA8pkiahgabEhno0KIHBYXH",
     "timestamp": 1742720380363
    },
    {
     "file_id": "1hJOyTwwI9H7KCEurp6K9JBTvsXD0sDv-",
     "timestamp": 1742051729167
    },
    {
     "file_id": "1kF72q-F9PJULXcS2ufdDPgIGc_q1l9Lo",
     "timestamp": 1741887953352
    }
   ]
  },
  "kernelspec": {
   "display_name": "ml",
   "language": "python",
   "name": "python3"
  },
  "language_info": {
   "codemirror_mode": {
    "name": "ipython",
    "version": 3
   },
   "file_extension": ".py",
   "mimetype": "text/x-python",
   "name": "python",
   "nbconvert_exporter": "python",
   "pygments_lexer": "ipython3",
   "version": "3.10.13"
  }
 },
 "nbformat": 4,
 "nbformat_minor": 0
}

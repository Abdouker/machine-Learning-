{
 "cells": [
  {
   "cell_type": "markdown",
   "metadata": {
    "id": "rrJwIlKpnHgH"
   },
   "source": [
    "\n",
    "- ####  *Abdelhak Kermia*\n"
   ]
  },
  {
   "cell_type": "markdown",
   "metadata": {
    "id": "jnXg_AaRnHgJ"
   },
   "source": [
    "# Introduction\n",
    "In today’s assignment, you will design, train, and evaluate your own Multi-Layer Perceptrons 🤓"
   ]
  },
  {
   "cell_type": "markdown",
   "metadata": {
    "id": "A-lav9hnnHgL"
   },
   "source": [
    "---\n",
    "## How to pass the assignment?\n",
    "Below, you will find the exercise questions. Each question that awards points is numbered and displays the available points in this format: **(0 pts)**.\n",
    "\n",
    "### Answering Questions\n",
    "- Provide your answers in the cell directly below each question.\n",
    "- Use **Markdown** for text-based answers (in **English**).\n",
    "- Use **code cells** for implementations.\n",
    "- **Incomplete or incorrect answers receive 0 points.** Partial credit may be awarded at the teacher's discretion.\n",
    "- Overly detailed answers do not grant extra points. Stick to what is asked.\n",
    "\n",
    "### Critical Thinking Questions and Bonus Exercises\n",
    "- Some questions are marked with a 🧠 (Critical Thinking) or a ⭐ (Bonus Exercise). These are for self-reflection and extra practice.\n",
    "- They are **optional** and do **not** award any points.\n",
    "- Answering them can help reinforce your understanding.\n",
    "\n",
    "### Important Notes\n",
    "- Save your work frequently! `(Ctrl + S)`\n",
    "- Before submitting, `Restart Session and Run All` cells to ensure everything works correctly.\n",
    "- **You need at least 28 points out of 42 (66%) to pass ✅**\n",
    "---"
   ]
  },
  {
   "cell_type": "code",
   "execution_count": 1,
   "metadata": {
    "ExecuteTime": {
     "end_time": "2025-03-29T21:03:33.379537Z",
     "start_time": "2025-03-29T21:03:33.376227Z"
    },
    "id": "HRSaGH8rFLSv"
   },
   "outputs": [],
   "source": [
    "points = 42"
   ]
  },
  {
   "cell_type": "markdown",
   "metadata": {
    "id": "aO8zuMQOnHgT"
   },
   "source": [
    "# 1. Neural Network Fundamentals\n",
    "\n",
    "Before diving into code, let's test your understanding of neural networks with these questions. For each topic, identify which statements are TRUE ✅ and which are FALSE ❌. Each question may have 1, 2, 3, or 4 correct answers.\n",
    "\n",
    "- 4 correct answers: 2 points\n",
    "- 3 correct answers: 1 point\n",
    "- 2 or fewer correct answers: 0 points\n",
    "\n",
    "💡 In Google Colab, you can easily add emojis to markdown cells by typing `:` followed by the emoji's name. For example, typing `:light-bulb` will display a light bulb emoji. This feature is also available as an extension in many IDEs."
   ]
  },
  {
   "cell_type": "markdown",
   "metadata": {
    "id": "PGlH8THTnHgT"
   },
   "source": [
    "#### 1.1 **(2pts) Multi-Layer Perceptron (MLP) Basics**\n",
    "\n",
    " A. MLPs can be used for a variety of tasks including classification and regression. ✅\n",
    "\n",
    " B. An MLP consists of at least one input layer, one hidden layer, and one output layer. ✅\n",
    "\n",
    " C. In a standard MLP, neurons in one layer are connected to all neurons in the adjacent layers. ✅\n",
    "\n",
    " D. MLPs automatically determine the best number of neurons needed for each layer ❌"
   ]
  },
  {
   "cell_type": "markdown",
   "metadata": {
    "id": "EGhrl4nnIVE3"
   },
   "source": [
    "#### 1.2 **(2pts): Data Transformation and Preprocessing**\n",
    "\n",
    "A. `transforms.ToTensor()` converts the image into a tensor that can be used by PyTorch. ✅\n",
    "\n",
    "B. `transforms.Normalize()` rescales pixel values to be in the range [0, 1]. ❌\n",
    "\n",
    "C. Data augmentation techniques, like rotation or flipping, can improve the generalization of the model. ✅\n",
    "\n",
    "D. The `DataLoader` function is only used to shuffle data and cannot load images. ❌"
   ]
  },
  {
   "cell_type": "markdown",
   "metadata": {
    "id": "xdFMifxiC3kH"
   },
   "source": [
    "#### 1.3 **(2pts): Input and Output Dimensions**\n",
    "\n",
    "A. For a 28×28 pixel grayscale image, the input dimension to an MLP would be 784. ✅\n",
    "\n",
    "B. The number of output neurons should always equal the number of features in your input data. ❌\n",
    "\n",
    "C. For a 10-class classification problem, we typically use 10 output neurons. ✅\n",
    "\n",
    "D. For a 28×28 pixel RGB color image, the input dimension would be 2,352. ✅"
   ]
  },
  {
   "cell_type": "markdown",
   "metadata": {
    "id": "IOxD8nAztViC"
   },
   "source": [
    "#### 1.4 **(2pts): Hidden Dimensions in Neural Networks**\n",
    "\n",
    "A. The hidden dimension must always match either the input or output dimension. ❌\n",
    "\n",
    "B. Neural networks can automatically determine the best hidden dimension without any manual tuning. ❌\n",
    "\n",
    "C. The number of hidden neurons is a hyperparameter that must be manually chosen by the model designer. ✅\n",
    "\n",
    "D. It is common to use powers of 2 (e.g., 32, 64, 128) for hidden dimensions, but this is not a strict rule. ✅"
   ]
  },
  {
   "cell_type": "markdown",
   "metadata": {
    "id": "2SDTLo_UnHgT"
   },
   "source": [
    "#### 1.5 **(2pts) Activation Functions**\n",
    "\n",
    "A. Activation functions introduce non-linearity into neural networks. ✅\n",
    "\n",
    "B. ReLU is an activation function that outputs the input directly if it's positive, or zero otherwise. ✅\n",
    "\n",
    "C. Every layer in a neural network must use the same activation function. ❌\n",
    "\n",
    "D. Using no activation function (keeping the layer linear) is generally better for hidden layers. ❌"
   ]
  },
  {
   "cell_type": "markdown",
   "metadata": {
    "id": "wZjBnTeeI2rx"
   },
   "source": [
    "#### 1.6 **(2pts): Loss Functions and Training**\n",
    "\n",
    "A. `CrossEntropyLoss` is commonly used for classification tasks.✅\n",
    "\n",
    "B. `Mean Squared Error (MSE)` is typically used for regression tasks.✅\n",
    "\n",
    "C. The loss function updates the model’s weights during training.❌\n",
    "\n",
    "D. The optimizer adjusts the model’s weights based on the loss to minimize errors during training. ✅\n",
    "\n"
   ]
  },
  {
   "cell_type": "markdown",
   "metadata": {
    "id": "kunsSGGkCygW"
   },
   "source": [
    "---\n",
    "# 2. Building a Simple Multi-Layer Perceptron\n",
    "\n",
    "In this assignment, you'll build a Multi-Layer Perceptron (MLP) neural network from scratch to classify fashion items from the FashionMNIST dataset."
   ]
  },
  {
   "cell_type": "markdown",
   "metadata": {
    "id": "4-tnce7dNTSX"
   },
   "source": [
    "## Preparing the Environment"
   ]
  },
  {
   "cell_type": "code",
   "execution_count": 2,
   "metadata": {
    "ExecuteTime": {
     "end_time": "2025-03-29T21:03:37.533891Z",
     "start_time": "2025-03-29T21:03:33.406245Z"
    },
    "id": "B2DEJ7KInHgV"
   },
   "outputs": [
    {
     "name": "stdout",
     "output_type": "stream",
     "text": [
      "cuda\n"
     ]
    }
   ],
   "source": [
    "# These are the packages you'll need today\n",
    "# If you're running on a local environment, make sure everything you need is installed :)\n",
    "\n",
    "# Data manipulation and visualization\n",
    "import matplotlib.pyplot as plt\n",
    "import seaborn as sns\n",
    "import pandas as pd\n",
    "import numpy as np\n",
    "\n",
    "# PyTorch libraries for deep learning\n",
    "import torch\n",
    "import torch.nn as nn\n",
    "import torch.optim as optim\n",
    "import torchvision.transforms as transforms\n",
    "import torchvision.datasets as datasets\n",
    "from torch.utils.data import DataLoader\n",
    "\n",
    "# Set up visualization style\n",
    "sns.set_theme(rc={'figure.figsize':(8,6)}, style=\"whitegrid\")\n",
    "\n",
    "# Set random seed\n",
    "torch.manual_seed(42)\n",
    "\n",
    "# Set up device (GPU if available, else CPU)\n",
    "device = torch.device(\"cuda\" if torch.cuda.is_available() else \"cpu\")\n",
    "print(device)\n"
   ]
  },
  {
   "cell_type": "markdown",
   "metadata": {
    "id": "vFjkkT-yNWV9"
   },
   "source": [
    "## Preparing and Loading the Fashion MNIST dataset"
   ]
  },
  {
   "cell_type": "markdown",
   "metadata": {
    "id": "mlf-Lud-NmIx"
   },
   "source": [
    "### Define basic data transformations and then load the [FashionMNIST](https://www.kaggle.com/datasets/zalando-research/fashionmnist) dataset.\n",
    "\n",
    "- Create a transformation pipeline that:\n",
    "  - Converts the images to [PyTorch tensors](https://pytorch.org/vision/main/generated/torchvision.transforms.ToTensor.html?highlight=totensor#torchvision.transforms.ToTensor).\n",
    "  - [Normalizes the images](https://pytorch.org/vision/main/generated/torchvision.transforms.Normalize.html) so that the pixel values are scaled to the range [-1, 1] using a mean of 0.5 and a standard deviation of 0.5.\n",
    "- Using the transformation pipeline, load the `FashionMNIST` training and testing datasets. Make sure to store them in the appropriate variables for training (`train_data`) and testing (`test_data`)."
   ]
  },
  {
   "cell_type": "code",
   "execution_count": 3,
   "metadata": {
    "ExecuteTime": {
     "end_time": "2025-03-29T21:03:37.590199Z",
     "start_time": "2025-03-29T21:03:37.543584Z"
    },
    "id": "SNDzCAVZhUzP"
   },
   "outputs": [
    {
     "name": "stderr",
     "output_type": "stream",
     "text": [
      "100%|██████████| 26.4M/26.4M [00:04<00:00, 6.34MB/s]\n",
      "100%|██████████| 29.5k/29.5k [00:00<00:00, 3.18MB/s]\n",
      "100%|██████████| 4.42M/4.42M [00:00<00:00, 5.58MB/s]\n",
      "100%|██████████| 5.15k/5.15k [00:00<?, ?B/s]\n"
     ]
    }
   ],
   "source": [
    "# Transform the data\n",
    "transform = transforms.Compose([transforms.ToTensor(), transforms.Normalize((0.5,), (0.5,))])\n",
    "\n",
    "# Load the training and testing Fashion MNIST datasets\n",
    "train_data = datasets.FashionMNIST(root='./data', train=True, transform=transform, download=True)\n",
    "test_data = datasets.FashionMNIST(root='./data', train=False, transform=transform, download=True)\n"
   ]
  },
  {
   "cell_type": "markdown",
   "metadata": {
    "id": "Wwh3i7NRCiMc"
   },
   "source": [
    "## Data Exploration"
   ]
  },
  {
   "cell_type": "markdown",
   "metadata": {
    "id": "dADDVnXdQLYk"
   },
   "source": [
    "### Perform some basic data exploration on the FashionMNIST dataset."
   ]
  },
  {
   "cell_type": "code",
   "execution_count": 4,
   "metadata": {
    "ExecuteTime": {
     "end_time": "2025-03-29T21:03:37.599582Z",
     "start_time": "2025-03-29T21:03:37.595718Z"
    },
    "id": "02trs2JXirB1"
   },
   "outputs": [
    {
     "name": "stdout",
     "output_type": "stream",
     "text": [
      "FashionMNIST Dataset Information:\n",
      "Training data size: 60000\n",
      "Testing data size: 10000\n",
      "Number of classes: 10\n",
      "Classes: ['T-shirt/top', 'Trouser', 'Pullover', 'Dress', 'Coat', 'Sandal', 'Shirt', 'Sneaker', 'Bag', 'Ankle boot']\n"
     ]
    }
   ],
   "source": [
    "# Display information about the FashionMNIST dataset\n",
    "print(\"FashionMNIST Dataset Information:\")\n",
    "\n",
    "# Size of training and testing datasets\n",
    "print(\"Training data size:\", len(train_data))\n",
    "print(\"Testing data size:\", len(test_data))\n",
    "\n",
    "# Number and names of classes\n",
    "class_names = train_data.classes\n",
    "print(\"Number of classes:\", len(class_names))\n",
    "print(\"Classes:\", class_names)\n"
   ]
  },
  {
   "cell_type": "markdown",
   "metadata": {
    "id": "AOhAc-LDTDDx"
   },
   "source": [
    "### Visualize an image from each class of the FashionMNIST dataset.\n",
    "- When accessing `train_data[idx]`, you will get a tuple containing both an image and its corresponding label. The image is a tensor, and the label is an integer representing the class.\n",
    "- The `squeeze()` [method](https://pytorch.org/docs/stable/generated/torch.squeeze.html) removes any dimensions of size 1 from the tensor, making it easier to display using Matplotlib."
   ]
  },
  {
   "cell_type": "code",
   "execution_count": 5,
   "metadata": {
    "ExecuteTime": {
     "end_time": "2025-03-29T21:03:37.873603Z",
     "start_time": "2025-03-29T21:03:37.607584Z"
    },
    "id": "lCpL4dKOkokp"
   },
   "outputs": [
    {
     "data": {
      "image/png": "[encoded data removed]",
      "text/plain": [
       "<Figure size 1000x400 with 10 Axes>"
      ]
     },
     "metadata": {},
     "output_type": "display_data"
    }
   ],
   "source": [
    "class_images = {i: None for i in range(10)}  # dictionary to store first image per class\n",
    "\n",
    "# Find the first image for each class\n",
    "for image, label in train_data:\n",
    "    if class_images[label] is None:  # only store the first image for each class\n",
    "        class_images[label] = image\n",
    "    if all(value is not None for value in class_images.values()):\n",
    "        break  # Stop once we've found the first image from each class\n",
    "\n",
    "# Plotting the images in a 5x2 grid\n",
    "plt.figure(figsize=(10, 4))\n",
    "for i in range(10):\n",
    "    plt.subplot(2, 5, i+1)\n",
    "    plt.imshow(class_images[i].squeeze(), cmap='gray')\n",
    "    plt.title(class_names[i])\n",
    "    plt.axis('off')\n",
    "\n",
    "plt.tight_layout()\n",
    "plt.show()\n"
   ]
  },
  {
   "cell_type": "markdown",
   "metadata": {
    "id": "lrCRMFs1U760"
   },
   "source": [
    "#### 2.1 **(2pts) Prepare the FashionMNIST dataset for training a model in batches using a [DataLoader](https://pytorch.org/docs/stable/data.html#torch.utils.data.DataLoader).**\n",
    "\n",
    "- Create a DataLoader for the training dataset with a batch size of 64 and shuffle the data.\n",
    "\n",
    "- Create a DataLoader for the testing dataset with a batch size of 64, but do not shuffle the data."
   ]
  },
  {
   "cell_type": "code",
   "execution_count": 6,
   "metadata": {
    "ExecuteTime": {
     "end_time": "2025-03-29T21:03:37.918494Z",
     "start_time": "2025-03-29T21:03:37.898187Z"
    },
    "id": "3p5w8wiTivE1"
   },
   "outputs": [
    {
     "name": "stdout",
     "output_type": "stream",
     "text": [
      "Feature shape: torch.Size([64, 1, 28, 28])\n",
      "Labels shape: torch.Size([64])\n",
      "The number of train batches: 938 and test batches:  157\n"
     ]
    }
   ],
   "source": [
    "train_loader = DataLoader(train_data , batch_size=64, shuffle=True) # https://pytorch.org/tutorials/beginner/basics/data_tutorial.html\n",
    "test_loader = DataLoader(test_data, batch_size=64, shuffle=False)\n",
    "\n",
    "train_features, train_labels = next(iter(train_loader)) # image, labels tuple\n",
    "\n",
    "print(f\"Feature shape: {train_features.size()}\") # 64 picture, 1 channel (grayscale) (would be 3 for rgb and 4 for rgba), height 28 pixels, width: 28 pixels\n",
    "print(f\"Labels shape: {train_labels.size()}\") # 64 labels per batch\n",
    "print(f\"The number of train batches: {len(train_loader)} and test batches:  {len(test_loader )}\")"
   ]
  },
  {
   "cell_type": "markdown",
   "metadata": {
    "id": "R_2JQ0AGDDZD"
   },
   "source": [
    "## Designing, Training, and Evaluating an MLP Neural Network"
   ]
  },
  {
   "cell_type": "markdown",
   "metadata": {
    "id": "YQxpOY3rV2wb"
   },
   "source": [
    "#### 2.2 **(5pts) Define a simple Multi-Layer Perceptron (MLP) model using PyTorch. The model should:**\n",
    "\n",
    "- Have an input layer with the appropriate number of input features (for 28x28 pixel images).\n",
    "\n",
    "- Include a hidden layer with 128 neurons and use the ReLU activation function.\n",
    "\n",
    "- Have an output layer with 10 neurons (for a 10-class classification problem).\n",
    "\n",
    "- Use two linear layers (one for the input to hidden layer, and one for the hidden to output layer).\n",
    "\n",
    "- Move the model to the appropriate device (CPU or GPU).\n",
    "\n",
    "❓ Hints:\n",
    "\n",
    "- You’ll need to use the `nn.Linear` [class](https://pytorch.org/docs/stable/generated/torch.nn.Linear.html) for the linear layers, specifying the input and output dimensions for each layer.\n",
    "\n",
    "- The model is [sequential](https://pytorch.org/docs/stable/generated/torch.nn.Sequential.html), meaning the layers are stacked one after another, and the input flows through them in order.\n",
    "\n",
    "- [ReLU](https://pytorch.org/docs/stable/generated/torch.nn.ReLU.html) is the activation function used after the first linear layer to introduce non-linearity.\n",
    "\n",
    "- After defining the model, use `model.to(device)` to [move the model to the available device](https://pytorch.org/docs/stable/generated/torch.Tensor.to.html) (GPU if available, otherwise CPU).\n",
    "\n",
    "❗Important:\n",
    "\n",
    "- When working with deep learning models, you typically want to use the GPU for faster computation if it's available. On Google Colab, you have limited free access to a GPU (you can enable it under Runtime > Change runtime type > Hardware accelerator > GPU).\n",
    "\n",
    "- We set the device at the start of the notebook with the line:\n",
    "```\n",
    "device = torch.device(\"cuda\" if torch.cuda.is_available() else \"cpu\")\n",
    "```\n",
    "If you change the device (e.g., to GPU), you will need to update the device assignment to match.\n",
    "\n",
    "\n",
    "\n"
   ]
  },
  {
   "cell_type": "code",
   "execution_count": 7,
   "metadata": {
    "ExecuteTime": {
     "end_time": "2025-03-29T21:03:38.102485Z",
     "start_time": "2025-03-29T21:03:37.948494Z"
    },
    "id": "hHDuWRfSlfs7"
   },
   "outputs": [],
   "source": [
    "input_dim = 28*28*1 # image size in pixels : heights/width x 1 channel (in grayscale)\n",
    "hidden_dim = 128 # neurone number in hidden layer\n",
    "output_dim = 10 # neurone number in the output layer = number of classes for this task\n",
    "\n",
    "# https://pytorch.org/vision/main/generated/torchvision.ops.MLP.html, https://machinelearningmastery.com/building-multilayer-perceptron-models-in-pytorch/, https://pytorch.org/tutorials/beginner/basics/buildmodel_tutorial.html\n",
    "model = nn.Sequential(\n",
    "    nn.Linear(input_dim, hidden_dim), # Before the first layer we could add nn.Flatten() which does the same as .view(images.size(0), -1), but we do it manually after in our train and evaluate functions before using the model.\n",
    "    nn.ReLU(),\n",
    "    nn.Linear(hidden_dim, output_dim),\n",
    ")\n",
    "\n",
    "model = model.to(device)"
   ]
  },
  {
   "cell_type": "markdown",
   "metadata": {
    "id": "97Z9b2QkaNj8"
   },
   "source": [
    "#### 2.3 **(10pts) Write a training function for your model using the following requirements and then train your model:**\n",
    "\n",
    "- The function should take the model, training data loader, the number of epochs (`epochs=5`), and learning rate (`lr=0.01`) as input.\n",
    "\n",
    "- Use [Stochastic Gradient Descent (SGD)](https://pytorch.org/docs/stable/generated/torch.optim.SGD.html) as the optimizer with the specified learning rate.\n",
    "\n",
    "- Use [Cross Entropy Loss](https://pytorch.org/docs/stable/generated/torch.nn.CrossEntropyLoss.html) as the loss function for a multi-class classification task.\n",
    "\n",
    "- For each epoch, iterate over the training data and update the model weights using backpropagation.\n",
    "\n",
    "- After each epoch, save and print the average loss.\n",
    "\n",
    "- Plot the training loss over the epochs.\n",
    "\n",
    "❓ Hints:\n",
    "\n",
    "- Ensure the model is in training mode by calling `model.train()`.\n",
    "\n",
    "- Flatten the images before passing them into the model, as it expects 1D vectors instead of 2D images.\n",
    "  - Use `.view(images.shape[0], -1)` to [reshape](https://pytorch.org/docs/stable/generated/torch.Tensor.view.html#torch.Tensor.view) the images.\n",
    "\n",
    "- Move both the images and labels to the appropriate device using `.to(device)`\n",
    "\n",
    "- [Clear previous gradients](https://pytorch.org/docs/stable/generated/torch.optim.Optimizer.zero_grad.html) using `optimizer.zero_grad()` before each batch update.\n",
    "\n",
    "- Perform backpropagation:\n",
    "  - Compute the loss using `loss_fn(predictions, labels)`.\n",
    "  - Call `loss.backward()` to [compute gradients](https://pytorch.org/docs/stable/generated/torch.Tensor.backward.html).\n",
    "  - Use `optimizer.step()` to [update the weights](https://pytorch.org/docs/stable/generated/torch.optim.Optimizer.step.html).\n",
    "\n",
    "- Keep track of the loss across all epochs and plot it at the end to visualize training progress.\n",
    "\n",
    "- The training took about a minute to run on my machine with a GPU."
   ]
  },
  {
   "cell_type": "code",
   "execution_count": 8,
   "metadata": {
    "ExecuteTime": {
     "end_time": "2025-03-29T21:04:23.231311Z",
     "start_time": "2025-03-29T21:03:38.127845Z"
    }
   },
   "outputs": [
    {
     "name": "stdout",
     "output_type": "stream",
     "text": [
      "Epoch: Number 1 / 5 | Loss (avg.): 0.796 | Duration: 16.63s\n",
      "Epoch: Number 2 / 5 | Loss (avg.): 0.523 | Duration: 13.93s\n",
      "Epoch: Number 3 / 5 | Loss (avg.): 0.474 | Duration: 16.40s\n",
      "Epoch: Number 4 / 5 | Loss (avg.): 0.447 | Duration: 15.17s\n",
      "Epoch: Number 5 / 5 | Loss (avg.): 0.428 | Duration: 14.81s\n",
      "Total runtime: 76.94 seconds\n"
     ]
    },
    {
     "data": {
      "image/png": "[encoded data removed]",
      "text/plain": [
       "<Figure size 800x600 with 1 Axes>"
      ]
     },
     "metadata": {},
     "output_type": "display_data"
    }
   ],
   "source": [
    "import time\n",
    "\n",
    "def train(model,loader=train_loader, epochs_n=5, learning_rate=0.01, device=device): # https://pytorch.org/tutorials/beginner/basics/optimization_tutorial.html\n",
    "    loss_fn = nn.CrossEntropyLoss() # Init: Loss function\n",
    "    optimizer = optim.SGD(model.parameters(),lr=learning_rate) # https://pytorch.org/docs/stable/generated/torch.optim.SGD.html\n",
    "    losses = [] # Init: list of the avg losses by epoch\n",
    "    tot_time = 0.0 # Init: total time of training\n",
    "\n",
    "    model.train()  # Set the model to training mode\n",
    "\n",
    "    start_time = time.time() # Timer start to monitor epoch iteration time\n",
    "    for epoch in range(epochs_n):\n",
    "            epoch_loss = 0.0 # Init: epoch loss\n",
    "\n",
    "            for batch_idx, (images, labels) in enumerate(loader): # Goes through all the batch's tuples: image data, labels(target) // Could use batch_idx to track progress for example // otherwise could simply iterate over X: images data  and y: targets/ true labels.\n",
    "                # Move images, labels to the device and flatten the images in 1D on the GPU if cuda otherwise on CPU\n",
    "                img_features = images.to(device).view(images.size(0), -1) # Could use reshape too\n",
    "                labels = labels.to(device)\n",
    "\n",
    "                # Compute prediction and loss\n",
    "                predictions = model(img_features)\n",
    "                batch_loss = loss_fn(predictions, labels) # Tensor with a single scalar loss value : average negative log-likelihood loss for the given batch\n",
    "\n",
    "                # Back propagation\n",
    "                optimizer.zero_grad()  # Clear previous gradients before update\n",
    "                batch_loss.backward()\n",
    "                optimizer.step()\n",
    "\n",
    "                # Add loss of the current batch to the epoch loss\n",
    "                epoch_loss += batch_loss.item()\n",
    "\n",
    "            # Calculate and store average loss for each epoch\n",
    "            epoch_avg_loss = epoch_loss / len(loader)\n",
    "            losses.append(epoch_avg_loss)\n",
    "\n",
    "            # Total Time and Duration for each epoch iteration\n",
    "            elapsed_time = time.time() - start_time\n",
    "            tot_time += elapsed_time\n",
    "\n",
    "            # Print information for each epoch:\n",
    "            print(f'Epoch: Number {epoch+1} / {epochs_n} | Loss (avg.): {epoch_avg_loss:.3f} | Duration: {elapsed_time:.2f}s')\n",
    "\n",
    "            start_time = time.time() # Reset timer\n",
    "\n",
    "    print('Total runtime:', round(tot_time,2),\"seconds\")\n",
    "\n",
    "    #Plot losses evolution by epoch\n",
    "    plt.plot(range(1,epochs_n+1), losses, marker='o')  # Plot losses with markers\n",
    "    plt.xticks(range(1,epochs_n + 1)) # https://matplotlib.org/stable/api/_as_gen/matplotlib.pyplot.xticks.html\n",
    "    plt.xlabel(\"Epochs\")\n",
    "    plt.ylabel(\"Average Loss\")\n",
    "    plt.title(\"Training Losses by Epoch\")\n",
    "    plt.show()\n",
    "\n",
    "train(model)"
   ]
  },
  {
   "cell_type": "markdown",
   "metadata": {
    "id": "tT9iwkH3bhgD"
   },
   "source": [
    "#### 2.4 **(10pts) Write and run a function to evaluate the performance of your previously trained model on the test dataset. The function should compute the accuracy of the model using the following requirements:**\n",
    "\n",
    "- Set the model to evaluation mode using `model.eval()`.\n",
    "\n",
    "- [Do not compute gradients](https://pytorch.org/docs/stable/generated/torch.no_grad.html) by using `with torch.no_grad()` to reduce memory usage during inference.\n",
    "\n",
    "- For each batch of images in the test loader:\n",
    "  - Flatten the images and move them to the appropriate device.\n",
    "  - Compute the model's output/predictions.\n",
    "  - Use `torch.max` to get the [predicted class labels](https://pytorch.org/docs/stable/generated/torch.max.html) from the model's predictions.\n",
    "  - Count the number of correct predictions by comparing the predicted labels with the true labels.\n",
    "  - Calculate and print the overall accuracy as the percentage of correct predictions out of the total predictions.\n",
    "\n",
    "❓ Hints:\n",
    "\n",
    "- Use `with torch.no_grad():` to avoid updating gradients during evaluation, which saves memory and computation.\n",
    "\n",
    "- Use `torch.max(predictions, 1)` to get the [index of the maximum value in each output row](https://pytorch.org/docs/stable/generated/torch.max.html) (the predicted class).\n",
    "\n",
    "- To get the batch size, you can use `labels.size(0)`. This returns the [number of samples in the current batch](https://pytorch.org/docs/stable/generated/torch.Tensor.size.html), which is useful for counting the total number of predictions and correct predictions.\n",
    "\n",
    "- Operations like `sum()` on PyTorch tensors often return a tensor containing the result. To work with this result as a single number in Python, consider using the `.item()` method to extract its value.\n",
    "\n",
    "- Make sure to compute the accuracy based on the total number of predictions and the number of correct predictions.\n",
    "\n",
    "📈 Expected Output:\n",
    "```\n",
    "Accuracy: xx.xx%\n",
    "```"
   ]
  },
  {
   "cell_type": "code",
   "execution_count": 9,
   "metadata": {
    "ExecuteTime": {
     "end_time": "2025-03-29T21:04:24.913268Z",
     "start_time": "2025-03-29T21:04:23.268644Z"
    },
    "id": "cKzWNEVgmQsI"
   },
   "outputs": [
    {
     "name": "stdout",
     "output_type": "stream",
     "text": [
      "Accuracy: 83.33%\n"
     ]
    }
   ],
   "source": [
    "def evaluate(model, loader=test_loader, device=device): #https://pytorch.org/tutorials/beginner/basics/optimization_tutorial.html\n",
    "    correct_labels = 0\n",
    "    total_samples = 0\n",
    "\n",
    "    model.eval() # Set the model to evaluation mode\n",
    "\n",
    "    with torch.no_grad(): # No gradient calculation, since no training / no updates\n",
    "            for images, labels in loader:\n",
    "                    # Move images, labels to the device and flatten the images in 1D on the GPU if cuda otherwise on CPU\n",
    "                    img_features = images.to(device).view(images.size(0), -1)\n",
    "                    labels = labels.to(device)\n",
    "\n",
    "                    # Compute prediction\n",
    "                    predictions = model(img_features)\n",
    "                    _, labels_pred = torch.max(predictions, 1) # Finds the index of the maximum value in each row / each row represents a sample (in the batch) and each column represents one class (10 columns for 10 classes).\n",
    "                    # Number of row = batch_size. Shape = 64 rows(batch size) by 10 columns (classes). -> We select by row the highest score for prediction and keep only the index which is the class prediction.\n",
    "\n",
    "                    # Count correct matches and total samples number:\n",
    "                    correct_labels += (labels_pred==labels).sum().item() #  Scalar value for the sum of 1 (true) for each time a labels predictions == true labels for every sample in the batches of the test_data\n",
    "                    total_samples += labels.size(0) # Could use the number of batch 157 and the size of batches 64 instead or len(test_data)\n",
    "\n",
    "    # Overall accuracy\n",
    "    accuracy = (correct_labels/total_samples)*100\n",
    "    print(f'Accuracy: {accuracy:.2f}%')\n",
    "\n",
    "evaluate(model)"
   ]
  },
  {
   "cell_type": "markdown",
   "metadata": {
    "id": "0lPgSgM1BFdC"
   },
   "source": [
    "#### 2.5 **(3pts) Experiment with Hyperparameters to Increase Accuracy**\n",
    "\n",
    "In this task, your goal is to experiment with different aspects of your MLP model to improve its accuracy. Here are some ideas:\n",
    "\n",
    "- Change Activation Functions: Experiment with ReLU, Leaky ReLU, Sigmoid, or Tanh in the hidden layers.\n",
    "\n",
    "- Modify the Number of Neurons: Try different numbers of neurons in the hidden layers (e.g., 64, 128, 256).\n",
    "\n",
    "- Adjust the Number of Hidden Layers: Try using 1, 2, or 3 hidden layers and see how it affects performance.\n",
    "\n",
    "- Play with Learning Rate and Batch Size: Adjust the learning rate (e.g., 0.1, 0.001) and try different batch sizes (e.g., 32, 64).\n",
    "\n",
    "- Use the training and evaluation functions you wrote to train the model and check its performance on the test set.\n",
    "\n",
    "😀 **Full points will be awarded just for trying something new! No need to get the highest accuracy—focus on experimenting with different configurations and seeing how it affects your model.**"
   ]
  },
  {
   "cell_type": "code",
   "execution_count": 10,
   "metadata": {
    "ExecuteTime": {
     "end_time": "2025-03-29T21:13:03.895122Z",
     "start_time": "2025-03-29T21:13:03.889483Z"
    },
    "id": "mlqKaOxL86KV"
   },
   "outputs": [],
   "source": [
    "# Define a simple MLP model\n",
    "model_improved = nn.Sequential(\n",
    "    nn.Linear(input_dim, hidden_dim + 128), # Higher neurones : 256 neurones in hidden layer\n",
    "    nn.ReLU(),\n",
    "    nn.Linear(hidden_dim + 128, output_dim),\n",
    ")\n",
    "\n",
    "# Move model to device\n",
    "model_improved = model_improved.to(device)"
   ]
  },
  {
   "cell_type": "code",
   "execution_count": 11,
   "metadata": {
    "ExecuteTime": {
     "end_time": "2025-03-29T21:14:41.464371Z",
     "start_time": "2025-03-29T21:13:05.371599Z"
    },
    "id": "fH4YX-4M9AvH"
   },
   "outputs": [
    {
     "name": "stdout",
     "output_type": "stream",
     "text": [
      "Epoch: Number 1 / 10 | Loss (avg.): 0.536 | Duration: 13.69s\n",
      "Epoch: Number 2 / 10 | Loss (avg.): 0.391 | Duration: 14.36s\n",
      "Epoch: Number 3 / 10 | Loss (avg.): 0.349 | Duration: 15.66s\n",
      "Epoch: Number 4 / 10 | Loss (avg.): 0.323 | Duration: 16.50s\n",
      "Epoch: Number 5 / 10 | Loss (avg.): 0.306 | Duration: 14.79s\n",
      "Epoch: Number 6 / 10 | Loss (avg.): 0.291 | Duration: 13.27s\n",
      "Epoch: Number 7 / 10 | Loss (avg.): 0.276 | Duration: 12.85s\n",
      "Epoch: Number 8 / 10 | Loss (avg.): 0.266 | Duration: 13.40s\n",
      "Epoch: Number 9 / 10 | Loss (avg.): 0.255 | Duration: 13.02s\n",
      "Epoch: Number 10 / 10 | Loss (avg.): 0.244 | Duration: 12.99s\n",
      "Total runtime: 140.54 seconds\n"
     ]
    },
    {
     "data": {
      "image/png": "[encoded data removed]",
      "text/plain": [
       "<Figure size 800x600 with 1 Axes>"
      ]
     },
     "metadata": {},
     "output_type": "display_data"
    },
    {
     "name": "stdout",
     "output_type": "stream",
     "text": [
      "Accuracy: 86.58%\n"
     ]
    }
   ],
   "source": [
    "# Train model\n",
    "train_loader = DataLoader(train_data , batch_size=32, shuffle=True) # Smaller batches\n",
    "test_loader = DataLoader(test_data, batch_size=16, shuffle=False) # Smaller batches\n",
    "train(model_improved, epochs_n=10, learning_rate=0.2) # More epochs and bigger steps\n",
    "\n",
    "# Evaluate model\n",
    "evaluate(model_improved)"
   ]
  },
  {
   "cell_type": "code",
   "execution_count": 12,
   "metadata": {},
   "outputs": [
    {
     "data": {
      "text/plain": [
       "42"
      ]
     },
     "execution_count": 12,
     "metadata": {},
     "output_type": "execute_result"
    }
   ],
   "source": [
    "points"
   ]
  },
  {
   "cell_type": "markdown",
   "metadata": {
    "id": "3yzkn9pAWN4v"
   },
   "source": [
    "**Congratulations on completing this assignment!** 🎉  \n",
    "\n",
    "You’ve just designed, trained, and evaluated your own neural network! By tweaking hyperparameters and testing different configurations, you’ve gained valuable hands-on experience with model optimization.\n",
    "\n",
    "Great work, and happy coding! 🚀💻"
   ]
  }
 ],
 "metadata": {
  "accelerator": "GPU",
  "colab": {
   "gpuType": "T4",
   "provenance": [
    {
     "file_id": "1XnJSUAQ6WF0g4d1RsZcc3u1vl1ngwmws",
     "timestamp": 1742800945636
    },
    {
     "file_id": "1qtKzLvb2sMnivcmAX7vDZNUjkDTW8BCs",
     "timestamp": 1742751475201
    },
    {
     "file_id": "1lHTdcnKRobA8pkiahgabEhno0KIHBYXH",
     "timestamp": 1742720380363
    },
    {
     "file_id": "1hJOyTwwI9H7KCEurp6K9JBTvsXD0sDv-",
     "timestamp": 1742051729167
    },
    {
     "file_id": "1kF72q-F9PJULXcS2ufdDPgIGc_q1l9Lo",
     "timestamp": 1741887953352
    }
   ]
  },
  "kernelspec": {
   "display_name": "ml",
   "language": "python",
   "name": "python3"
  },
  "language_info": {
   "codemirror_mode": {
    "name": "ipython",
    "version": 3
   },
   "file_extension": ".py",
   "mimetype": "text/x-python",
   "name": "python",
   "nbconvert_exporter": "python",
   "pygments_lexer": "ipython3",
   "version": "3.10.13"
  }
 },
 "nbformat": 4,
 "nbformat_minor": 0
}
